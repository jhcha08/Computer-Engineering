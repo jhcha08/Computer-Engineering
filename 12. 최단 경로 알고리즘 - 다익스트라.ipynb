{
 "cells": [
  {
   "cell_type": "markdown",
   "metadata": {},
   "source": [
    "## 1. 우선 순위 큐 사용하기"
   ]
  },
  {
   "cell_type": "code",
   "execution_count": 1,
   "metadata": {},
   "outputs": [
    {
     "name": "stdout",
     "output_type": "stream",
     "text": [
      "[1, 'C']\n",
      "[2, 'A']\n",
      "[5, 'B']\n",
      "[7, 'D']\n"
     ]
    }
   ],
   "source": [
    "# heap이란 '부모의 값이 자식의 값보다 항상 크다'는 조건을 만족하는 완전 이진 트리\n",
    "\n",
    "import heapq\n",
    "\n",
    "queue = []\n",
    "\n",
    "heapq.heappush(queue, [2,'A'])\n",
    "heapq.heappush(queue, [5,'B'])\n",
    "heapq.heappush(queue, [1,'C'])\n",
    "heapq.heappush(queue, [7,'D'])\n",
    "\n",
    "for i in range(len(queue)):\n",
    "    print(heapq.heappop(queue))"
   ]
  },
  {
   "cell_type": "markdown",
   "metadata": {},
   "source": [
    "## 2. 다익스트라 알고리즘"
   ]
  },
  {
   "cell_type": "code",
   "execution_count": 2,
   "metadata": {},
   "outputs": [],
   "source": [
    "import heapq\n",
    "\n",
    "mygraph = {\n",
    "          'A':{'B':8, 'C':1, 'D':2},\n",
    "          'B':{},\n",
    "          'C':{'B':5, 'D':2},\n",
    "          'D':{'E':3, 'F':5},\n",
    "          'E':{'F':1},\n",
    "          'F':{'A':5}\n",
    "          }\n",
    "\n",
    "def dijkstra(graph, start):\n",
    "    distances = {node:float('inf') for node in graph} # 출발점 노드부터 다른 노드까지의 거리를 무한대, \n",
    "    distances[start] = 0                              # 출발점 노드(자기 자신)까지의 거리는 0인 초기 배열 distances를 완성\n",
    "    queue = [] # 우선 순위 큐 만듦\n",
    "    \n",
    "    heapq.heappush(queue, [distances[start], start]) # 1단계의 우선 순위 큐 (A,0)을 만든 것\n",
    "    \n",
    "    while queue: # 우선 순위 큐에 더이상 노드가 없을 때까지\n",
    "        current_distance, current_node = heapq.heappop(queue) # 우선 순위 큐에 기록된 노드와 출발점에서 그 노드까지의 거리 뽑음\n",
    "        \n",
    "        if distances[current_node] < current_distance: # 현재 배열에 표시된 거리보다 우선 순위 큐에서 뽑아낸 거리가 더 크면,\n",
    "            continue                                   # 아래의 for문을 실행 X하고 다시 while문 반복 돌아감\n",
    "            \n",
    "        for adjacent, weight in graph[current_node].items():\n",
    "            distance = current_distance + weight\n",
    "            if distance < distances[adjacent]: # 출발 노드에서 인접 노드까지의 기존 거리보다 새로 계산된 거리가 작다면,\n",
    "                distances[adjacent] = distance # 그걸로 인접 노드까지의 거리를 업데이트하고,\n",
    "                heapq.heappush(queue, [distance, adjacent]) # 해당 거리와 노드 정보를 우선 순위 큐에 집어넣는다\n",
    "                    \n",
    "    return distances"
   ]
  },
  {
   "cell_type": "code",
   "execution_count": 3,
   "metadata": {},
   "outputs": [
    {
     "data": {
      "text/plain": [
       "{'A': 0, 'B': 6, 'C': 1, 'D': 2, 'E': 5, 'F': 6}"
      ]
     },
     "execution_count": 3,
     "metadata": {},
     "output_type": "execute_result"
    }
   ],
   "source": [
    "dijkstra(mygraph, 'A')"
   ]
  }
 ],
 "metadata": {
  "kernelspec": {
   "display_name": "Python 3",
   "language": "python",
   "name": "python3"
  },
  "language_info": {
   "codemirror_mode": {
    "name": "ipython",
    "version": 3
   },
   "file_extension": ".py",
   "mimetype": "text/x-python",
   "name": "python",
   "nbconvert_exporter": "python",
   "pygments_lexer": "ipython3",
   "version": "3.7.4"
  }
 },
 "nbformat": 4,
 "nbformat_minor": 2
}
