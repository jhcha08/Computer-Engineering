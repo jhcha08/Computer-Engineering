{
 "cells": [
  {
   "cell_type": "markdown",
   "metadata": {},
   "source": [
    "## 1. 해쉬 테이블 & 해쉬 함수 구현하기"
   ]
  },
  {
   "cell_type": "code",
   "execution_count": 1,
   "metadata": {},
   "outputs": [],
   "source": [
    "hash_table = list([0 for _ in range(10)])"
   ]
  },
  {
   "cell_type": "code",
   "execution_count": 2,
   "metadata": {},
   "outputs": [],
   "source": [
    "hash_table"
   ]
  },
  {
   "cell_type": "code",
   "execution_count": 3,
   "metadata": {},
   "outputs": [],
   "source": [
    "# 어떤 키가 들어오건 간에 5의 나머지인 0~4중 하나로 해쉬 값(해쉬 주소)이 정해져서 return됨\n",
    "def hash_func(key):\n",
    "    return key % 5"
   ]
  },
  {
   "cell_type": "code",
   "execution_count": 4,
   "metadata": {},
   "outputs": [
    {
     "name": "stdout",
     "output_type": "stream",
     "text": [
      "65\n",
      "68\n",
      "84\n"
     ]
    }
   ],
   "source": [
    "data1 = 'Andy'\n",
    "data2 = 'Dave'\n",
    "data3 = 'Trumph'\n",
    "\n",
    "print(ord(data1[0])) # 각 데이터(문자열)의 첫번째 문자의 아스키 코드를 key값으로 활용할 것\n",
    "print(ord(data2[0])) # 즉 ord()는 key를 추출할 수 있는 별도 함수\n",
    "print(ord(data3[0]))"
   ]
  },
  {
   "cell_type": "code",
   "execution_count": 5,
   "metadata": {},
   "outputs": [
    {
     "data": {
      "text/plain": [
       "0"
      ]
     },
     "execution_count": 5,
     "metadata": {},
     "output_type": "execute_result"
    }
   ],
   "source": [
    "hash_func(ord(data1[0])) # data1의 key값은 65, 해쉬 값(주소)은 0"
   ]
  },
  {
   "cell_type": "markdown",
   "metadata": {},
   "source": [
    "## 2. 해쉬 주소를 갖고 데이터를 저장, 추출하는 함수 구현하기"
   ]
  },
  {
   "cell_type": "code",
   "execution_count": 6,
   "metadata": {},
   "outputs": [],
   "source": [
    "hash_table = list([0 for _ in range(10)])\n",
    "\n",
    "def storage_data(data, value): # value = data에 대해 저장하고 싶은 값 (ex. 사람에 따른 전화번호)\n",
    "    key = ord(data[0])\n",
    "    hash_address = hash_func(key)\n",
    "    hash_table[hash_address] = value\n",
    "    \n",
    "def get_data(data):\n",
    "    key = ord(data[0])\n",
    "    hash_address = hash_func(key)\n",
    "    return hash_table[hash_address]"
   ]
  },
  {
   "cell_type": "code",
   "execution_count": 7,
   "metadata": {},
   "outputs": [],
   "source": [
    "storage_data('Andy', '01011112222')\n",
    "storage_data('Dave', '01033334444')\n",
    "storage_data('Trumph', '01055556666')"
   ]
  },
  {
   "cell_type": "code",
   "execution_count": 8,
   "metadata": {},
   "outputs": [
    {
     "data": {
      "text/plain": [
       "'01033334444'"
      ]
     },
     "execution_count": 8,
     "metadata": {},
     "output_type": "execute_result"
    }
   ],
   "source": [
    "get_data('Dave')"
   ]
  },
  {
   "cell_type": "markdown",
   "metadata": {},
   "source": [
    "## 3. 내장된 hash 함수를 가지고 해쉬 테이블 구현하기"
   ]
  },
  {
   "cell_type": "code",
   "execution_count": 9,
   "metadata": {},
   "outputs": [
    {
     "data": {
      "text/plain": [
       "316479773008446316"
      ]
     },
     "execution_count": 9,
     "metadata": {},
     "output_type": "execute_result"
    }
   ],
   "source": [
    "hash('Dave') # 어떤 문자열이건 그에 대한 key값 숫자를 return하는 내장 함수"
   ]
  },
  {
   "cell_type": "code",
   "execution_count": 10,
   "metadata": {},
   "outputs": [],
   "source": [
    "hash_table = [0 for _ in range(8)]\n",
    "\n",
    "def get_key(data): # 내장된 hash 함수를 이용해 key를 추출하는 함수\n",
    "    return hash(data)\n",
    "\n",
    "def hash_func2(key): # get_key 함수를 사용해 얻은 key를 가지고 해쉬 값(주소) 추출하는 함수\n",
    "    return key % 8\n",
    "\n",
    "def storage_data2(data, value):\n",
    "    key = get_key(data)\n",
    "    hash_address = hash_func2(key)\n",
    "    hash_table[hash_address] = value\n",
    "    \n",
    "def get_data2(data):\n",
    "    key = get_key(data)\n",
    "    hash_address = hash_func2(key)\n",
    "    return hash_table[hash_address]"
   ]
  },
  {
   "cell_type": "code",
   "execution_count": 11,
   "metadata": {},
   "outputs": [],
   "source": [
    "storage_data2('Andy', '01011112222')\n",
    "storage_data2('Dave', '01033334444')\n",
    "storage_data2('Trumph', '01055556666')"
   ]
  },
  {
   "cell_type": "code",
   "execution_count": 12,
   "metadata": {},
   "outputs": [
    {
     "data": {
      "text/plain": [
       "'01033334444'"
      ]
     },
     "execution_count": 12,
     "metadata": {},
     "output_type": "execute_result"
    }
   ],
   "source": [
    "get_data2('Dave')"
   ]
  },
  {
   "cell_type": "markdown",
   "metadata": {},
   "source": [
    "## 4. 충돌 해결 알고리즘 - Chaining 기법"
   ]
  },
  {
   "cell_type": "code",
   "execution_count": 13,
   "metadata": {},
   "outputs": [],
   "source": [
    "hash_table = [0 for _ in range(8)]\n",
    "\n",
    "def get_key(data):\n",
    "    return hash(data)\n",
    "\n",
    "def hash_func(key):\n",
    "    return key % 8\n",
    "\n",
    "def save_data(data, value):\n",
    "    index_key = get_key(data) # 들어온 데이터의 key를 정의\n",
    "    hash_address = hash_func(index_key) # 그 key의 해쉬 주소 정의\n",
    "    if hash_table[hash_address] != 0: # 만약 들어온 데이터의 주소에 해당하는 테이블에 이미 값이 있다면,\n",
    "        for i in range(len(hash_table[hash_address])):\n",
    "            if hash_table[hash_address][i][0] == index_key: # 거기에 더해 이미 있던 데이터의 key값이 들어온 데이터의 key값과\n",
    "                hash_table[hash_address][i][1] == value     # 같다면, 기존 value를 새로 들어온 value로 대체한다\n",
    "                return\n",
    "        hash_table[hash_address].append([index_key, value]) # 그렇지 않다면 [index_key, value] 형태로 뒤에 붙여준다\n",
    "    else:\n",
    "        hash_table[hash_address] = [[index_key, value]] # 기본적으로 key/value 형태로 해시 테이블 구성을 위해 \n",
    "                                                        # 타입을 리스트로 바꿔주며 [index_key, value]를 넣는다\n",
    "def read_data(data):\n",
    "    index_key = get_key(data)\n",
    "    hash_address = hash_func(index_key)\n",
    "    if hash_table[hash_address] != 0:\n",
    "        for i in range(len(hash_table[hash_address])):\n",
    "            if hash_table[hash_address][i][0] == index_key:\n",
    "                return hash_table[hash_address][i][1]\n",
    "        return None\n",
    "    else:\n",
    "        return None"
   ]
  },
  {
   "cell_type": "code",
   "execution_count": 29,
   "metadata": {},
   "outputs": [
    {
     "name": "stdout",
     "output_type": "stream",
     "text": [
      "4\n",
      "4\n"
     ]
    }
   ],
   "source": [
    "print(hash('lqp') % 8)\n",
    "print(hash('zpa') % 8) # 두 데이터에 대한 해쉬 주소 값이 겹쳐서 원래는 충돌이 있을 것"
   ]
  },
  {
   "cell_type": "code",
   "execution_count": 15,
   "metadata": {},
   "outputs": [],
   "source": [
    "save_data('lqp', '01011112222')\n",
    "save_data('zpa', '01033334444')"
   ]
  },
  {
   "cell_type": "code",
   "execution_count": 16,
   "metadata": {},
   "outputs": [
    {
     "data": {
      "text/plain": [
       "'01011112222'"
      ]
     },
     "execution_count": 16,
     "metadata": {},
     "output_type": "execute_result"
    }
   ],
   "source": [
    "read_data('lqp') # 충돌없이 잘 출력됨"
   ]
  },
  {
   "cell_type": "markdown",
   "metadata": {},
   "source": [
    "## 5. 충돌 해결 알고리즘 - Linear Probing 기법"
   ]
  },
  {
   "cell_type": "code",
   "execution_count": 17,
   "metadata": {},
   "outputs": [],
   "source": [
    "hash_table = [0 for _ in range(8)]\n",
    "\n",
    "def get_key(data):\n",
    "    return hash(data)\n",
    "\n",
    "def hash_func(key):\n",
    "    return key % 8\n",
    "\n",
    "def save_data(data, value):\n",
    "    index_key = get_key(data)\n",
    "    hash_address = hash_func(index_key)\n",
    "    if hash_table[hash_address] != 0: # 만약 들어온 데이터의 해쉬 주소에 해당하는 곳에 데이터가 이미 있어서 충돌 예정이면,\n",
    "        for i in range(hash_address, len(hash_table)): # 그 해쉬 주소의 다음 주소부터 맨 처음 빈 공간에 저장하면 됨\n",
    "            if hash_table[i] == 0: # 만약 hash_address 이후에 해당하는 곳에 빈 자리가 있다면,\n",
    "                hash_table[i] == [index_key, value] # 들어온 데이터의 index_key와 value를 그곳에 저장한다\n",
    "                return\n",
    "            elif hash_table[i][0] == index_key: # 만약 해쉬 테이블에 지금 들어온 데이터의 key와 같은 key가 있다면,\n",
    "                hash_table[i][1] = value # 그 기존 key에 해당하는 value를 새로 들어온 데이터의 value로 업데이트한다.\n",
    "                return\n",
    "    else:\n",
    "        hash_table[hash_address] = [index_key, value] # hash_address에 해당하는 부분에 데이터가 없다면\n",
    "                                                      # [index_key, value] 형태로 데이터를 넣는다         \n",
    "def read_data(data):\n",
    "    index_key = get_key(data)\n",
    "    hash_address = hash_func(index_key)\n",
    "    if hash_table[hash_address] != 0:\n",
    "        for i in range(hash_address, len(hash_table)):\n",
    "            if hash_table[i] == 0: # hash_address 이후 주소에도 데이터가 없다면,\n",
    "                return None # 입력으로 들어온 데이터에 대한 정보도 없다는 것이므로 아무것도 return X\n",
    "            elif hash_table[i][0] == index_key: # 들어온 데이터에 대한 key 값인 index_key가 있다면\n",
    "                return hash_table[i][1] # 그에 대한 value를 return\n",
    "    else:\n",
    "        return None"
   ]
  },
  {
   "cell_type": "code",
   "execution_count": 28,
   "metadata": {},
   "outputs": [
    {
     "name": "stdout",
     "output_type": "stream",
     "text": [
      "4\n",
      "4\n"
     ]
    }
   ],
   "source": [
    "print(hash('lqp') % 8)\n",
    "print(hash('zpa') % 8) # 두 데이터에 대한 해쉬 주소 값이 겹쳐서 원래는 충돌이 있을 것"
   ]
  },
  {
   "cell_type": "code",
   "execution_count": 19,
   "metadata": {},
   "outputs": [],
   "source": [
    "save_data('lqp', '01011112222')\n",
    "save_data('zpa', '01033334444')"
   ]
  },
  {
   "cell_type": "code",
   "execution_count": 20,
   "metadata": {},
   "outputs": [
    {
     "data": {
      "text/plain": [
       "'01011112222'"
      ]
     },
     "execution_count": 20,
     "metadata": {},
     "output_type": "execute_result"
    }
   ],
   "source": [
    "read_data('lqp') # 충돌없이 잘 출력됨"
   ]
  }
 ],
 "metadata": {
  "kernelspec": {
   "display_name": "Python 3",
   "language": "python",
   "name": "python3"
  },
  "language_info": {
   "codemirror_mode": {
    "name": "ipython",
    "version": 3
   },
   "file_extension": ".py",
   "mimetype": "text/x-python",
   "name": "python",
   "nbconvert_exporter": "python",
   "pygments_lexer": "ipython3",
   "version": "3.7.4"
  }
 },
 "nbformat": 4,
 "nbformat_minor": 2
}
