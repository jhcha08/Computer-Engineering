{
 "cells": [
  {
   "cell_type": "markdown",
   "metadata": {},
   "source": [
    "## 1. 힙 클래스 구현"
   ]
  },
  {
   "cell_type": "code",
   "execution_count": 1,
   "metadata": {},
   "outputs": [],
   "source": [
    "class Heap:\n",
    "    def __init__(self, data):\n",
    "        self.heap_array = list()     # 힙은 배열을 쓰는데, 부모-자식 인덱스 관계 계산이 쉽도록 배열의 첫 인덱스 번호를\n",
    "        self.heap_array.append(None) # 1번으로 지정함. 따라서 배열의 맨 첫번째 데이터는 None으로 함\n",
    "        self.heap_array.append(data)\n",
    "        \n",
    "    def move_up(self, inserted_idx):\n",
    "        if inserted_idx <= 1:\n",
    "            return False\n",
    "        parent_idx = inserted_idx // 2\n",
    "        if self.heap_array[inserted_idx] > self.heap_array[parent_idx]: # 삽입된 노드의 값이 부모 노드의 값보다 크면\n",
    "            return True # True를 반환해 insert 함수의 while문으로 넘어감\n",
    "        else:\n",
    "            return False\n",
    "        \n",
    "    def move_down(self, popped_idx):\n",
    "        left_child_popped_idx = popped_idx * 2\n",
    "        right_child_popped_idx = popped_idx * 2 + 1\n",
    "        \n",
    "        # Case1: 왼쪽 자식 노드도 없을 때\n",
    "        if left_child_popped_idx >= len(self.heap_array):\n",
    "            return False\n",
    "        \n",
    "        # Case2: 오른쪽 자식 노드만 없을 때\n",
    "        elif right_child_popped_idx >= len(self.heap_array):\n",
    "            if self.heap_array[popped_idx] < self.heap_array[left_child_popped_idx]:\n",
    "                return True\n",
    "            else:\n",
    "                return False\n",
    "        \n",
    "        # Case3: 왼쪽, 오른쪽 자식 노드 모두 있을 때\n",
    "        else:\n",
    "            if self.heap_array[left_child_popped_idx] > self.heap_array[right_child_popped_idx]:\n",
    "                if self.heap_array[popped_idx] < self.heap_array[left_child_popped_idx]:\n",
    "                    return True\n",
    "                else:\n",
    "                    return False\n",
    "            else:\n",
    "                if self.heap_array[popped_idx] < self.heap_array[right_child_popped_idx]:\n",
    "                    return True\n",
    "                else:\n",
    "                    return False\n",
    "\n",
    "    def insert(self, data): # 데이터 삽입 메소드\n",
    "        if len(self.heap_array) == 0: # heap_array에 아무것도 없다면 초기화하는 과정\n",
    "            self.heap_array.append(None)\n",
    "            self.heap_array.append(data)\n",
    "            return True\n",
    "\n",
    "        self.heap_array.append(data) # 이렇게 할 수 있는 이유는 힙의 인덱스 매겨지는 규칙이 배열과 똑같기 때문\n",
    "        inserted_idx = len(self.heap_array)-1 # 들어온 데이터의 인덱스를 계산하는 방법\n",
    "\n",
    "        while self.move_up(inserted_idx):  # move_up 함수를 통해, 삽입된 노드와 그것의 부모 노드의\n",
    "            parent_idx = inserted_idx // 2 # 자리를 바꿔야한다고 판명나면(True) 서로 swap하는 부분\n",
    "            self.heap_array[inserted_idx], self.heap_array[parent_idx] = self.heap_array[parent_idx], self.heap_array[inserted_idx] \n",
    "            inserted_idx = parent_idx\n",
    "        return True\n",
    "    \n",
    "    def pop(self): # 데이터 삭제 메소드\n",
    "        if len(self.heap_array) <= 1:\n",
    "            return None\n",
    "        \n",
    "        returned_data = self.heap_array[1] # 루트 노드, 즉 첫번째 노드를 삭제할 것이므로 일단 뽑아놓음\n",
    "        self.heap_array[1] = self.heap_array[-1] # 맨 마지막 노드를 맨 위 노드로 올려보냄\n",
    "        del self.heap_array[-1] # 이제 맨 마지막 노드는 삭제\n",
    "        popped_idx = 1\n",
    "        \n",
    "        while self.move_down(popped_idx):\n",
    "            left_child_popped_idx = popped_idx * 2\n",
    "            right_child_popped_idx = popped_idx * 2 + 1\n",
    "\n",
    "            # Case2: 오른쪽 자식 노드만 없을 때\n",
    "            if right_child_popped_idx >= len(self.heap_array):\n",
    "                if self.heap_array[popped_idx] < self.heap_array[left_child_popped_idx]:\n",
    "                    self.heap_array[popped_idx], self.heap_array[left_child_popped_idx] = self.heap_array[left_child_popped_idx], self.heap_array[popped_idx]\n",
    "                    popped_idx = left_child_popped_idx\n",
    "                    \n",
    "            # Case3: 왼쪽, 오른쪽 자식 노드 모두 있을 때\n",
    "            else:\n",
    "                if self.heap_array[left_child_popped_idx] > self.heap_array[right_child_popped_idx]:\n",
    "                    if self.heap_array[popped_idx] < self.heap_array[left_child_popped_idx]:\n",
    "                        self.heap_array[popped_idx], self.heap_array[left_child_popped_idx] = self.heap_array[left_child_popped_idx], self.heap_array[popped_idx]\n",
    "                        popped_idx = left_child_popped_idx\n",
    "                else:\n",
    "                    if self.heap_array[popped_idx] < self.heap_array[right_child_popped_idx]:\n",
    "                        self.heap_array[popped_idx], self.heap_array[right_child_popped_idx] = self.heap_array[right_child_popped_idx], self.heap_array[popped_idx]\n",
    "                        popped_idx = right_child_popped_idx\n",
    "        \n",
    "        return returned_data"
   ]
  },
  {
   "cell_type": "code",
   "execution_count": 2,
   "metadata": {},
   "outputs": [
    {
     "data": {
      "text/plain": [
       "[None, 1]"
      ]
     },
     "execution_count": 2,
     "metadata": {},
     "output_type": "execute_result"
    }
   ],
   "source": [
    "heap = Heap(1)\n",
    "heap.heap_array"
   ]
  },
  {
   "cell_type": "code",
   "execution_count": 3,
   "metadata": {},
   "outputs": [
    {
     "data": {
      "text/plain": [
       "[None, 20, 10, 15, 5, 4, 8]"
      ]
     },
     "execution_count": 3,
     "metadata": {},
     "output_type": "execute_result"
    }
   ],
   "source": [
    "heap = Heap(15)\n",
    "heap.insert(10)\n",
    "heap.insert(8)\n",
    "heap.insert(5)\n",
    "heap.insert(4)\n",
    "heap.insert(20)\n",
    "heap.heap_array"
   ]
  },
  {
   "cell_type": "code",
   "execution_count": 4,
   "metadata": {},
   "outputs": [
    {
     "data": {
      "text/plain": [
       "20"
      ]
     },
     "execution_count": 4,
     "metadata": {},
     "output_type": "execute_result"
    }
   ],
   "source": [
    "heap.pop()"
   ]
  },
  {
   "cell_type": "code",
   "execution_count": 5,
   "metadata": {},
   "outputs": [
    {
     "data": {
      "text/plain": [
       "[None, 15, 10, 8, 5, 4]"
      ]
     },
     "execution_count": 5,
     "metadata": {},
     "output_type": "execute_result"
    }
   ],
   "source": [
    "heap.heap_array"
   ]
  }
 ],
 "metadata": {
  "kernelspec": {
   "display_name": "Python 3",
   "language": "python",
   "name": "python3"
  },
  "language_info": {
   "codemirror_mode": {
    "name": "ipython",
    "version": 3
   },
   "file_extension": ".py",
   "mimetype": "text/x-python",
   "name": "python",
   "nbconvert_exporter": "python",
   "pygments_lexer": "ipython3",
   "version": "3.7.4"
  }
 },
 "nbformat": 4,
 "nbformat_minor": 2
}
