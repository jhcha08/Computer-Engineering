{
 "cells": [
  {
   "cell_type": "code",
   "execution_count": 1,
   "id": "73a220c4",
   "metadata": {},
   "outputs": [
    {
     "name": "stdout",
     "output_type": "stream",
     "text": [
      "arrival_list: [0, 3, 7, 10, 14, 15]\n",
      "burst_list: [10, 12, 4, 6, 8, 7]\n"
     ]
    }
   ],
   "source": [
    "class Process():\n",
    "    def __init__(self, name, arrival, burst):\n",
    "        self.name = name\n",
    "        self.arrival = arrival\n",
    "        self.burst = burst\n",
    "\n",
    "p1 = Process(name = 'p1', arrival=0, burst=10)\n",
    "p2 = Process(name = 'p2', arrival=3, burst=12)\n",
    "p3 = Process(name = 'p3', arrival=7, burst=4)\n",
    "p4 = Process(name = 'p4', arrival=10, burst=6)\n",
    "p5 = Process(name = 'p5', arrival=14, burst=8)\n",
    "p6 = Process(name = 'p6', arrival=15, burst=7)\n",
    "\n",
    "process_list = [p1,p2,p3,p4,p5,p6]\n",
    "\n",
    "arrival_list = []\n",
    "for i in range(len(process_list)):\n",
    "    arrival_list.append(process_list[i].arrival)\n",
    "print('arrival_list:', arrival_list)\n",
    "    \n",
    "burst_list = []\n",
    "for i in range(len(process_list)):\n",
    "    burst_list.append(process_list[i].burst)\n",
    "print('burst_list:', burst_list)"
   ]
  },
  {
   "cell_type": "markdown",
   "id": "efe76738",
   "metadata": {},
   "source": [
    "## FCFS"
   ]
  },
  {
   "cell_type": "code",
   "execution_count": 2,
   "id": "1e3b5579",
   "metadata": {},
   "outputs": [
    {
     "name": "stdout",
     "output_type": "stream",
     "text": [
      "p1 -> p2 -> p3 -> p4 -> p5 -> p6 -> Finish! \n",
      "\n",
      "Averaging waiting time of FCFS: 13.5\n"
     ]
    }
   ],
   "source": [
    "def fcfs_sum(list_):\n",
    "    a=0\n",
    "    fcfs_list = []\n",
    "    for i in range(len(list_)):\n",
    "        fcfs_list.append(a)\n",
    "        a += list_[i]\n",
    "    return fcfs_list\n",
    "\n",
    "arrival_list.sort()\n",
    "for i in range(len(process_list)):\n",
    "    if process_list[i].arrival == arrival_list[i]:\n",
    "        print(process_list[i].name, '->', end = ' ')\n",
    "        \n",
    "print('Finish!', '\\n')\n",
    "   \n",
    "wait_time_list = [fcfs_sum(burst_list)[i] - arrival_list[i] for i in range(len(process_list))]\n",
    "print('Averaging waiting time of FCFS:', sum(wait_time_list)/len(wait_time_list))"
   ]
  },
  {
   "cell_type": "markdown",
   "id": "04f03977",
   "metadata": {},
   "source": [
    "## Preemptive SJF (SRTF)"
   ]
  },
  {
   "cell_type": "code",
   "execution_count": 3,
   "id": "a8823cdc",
   "metadata": {},
   "outputs": [
    {
     "name": "stdout",
     "output_type": "stream",
     "text": [
      "p1 -> p3 -> p4 -> p6 -> p5 -> p2 -> Finish! \n",
      "\n",
      "Averaging waiting time of SRTF: 9.5\n"
     ]
    }
   ],
   "source": [
    "def calculate_wait_time(process, n, wait_time):  \n",
    "    arrival_time = [0] * n \n",
    "  \n",
    "    for i in range(n):  \n",
    "        arrival_time[i] = process[i][1]\n",
    "\n",
    "    final = 0\n",
    "    time = 0\n",
    "    min_time = 999999\n",
    "    index = 0\n",
    "    flag = False\n",
    "  \n",
    "    while (final != n): \n",
    "        for j in range(n): \n",
    "            if ((process[j][2] <= time) and \n",
    "                (arrival_time[j] < min_time) and arrival_time[j] > 0): \n",
    "                min_time = arrival_time[j] \n",
    "                index = j \n",
    "                flag = True\n",
    "        if (flag == False): \n",
    "            time += 1\n",
    "            continue\n",
    "            \n",
    "        arrival_time[index] -= 1\n",
    "        min_time = arrival_time[index]  \n",
    "        \n",
    "        if (min_time == 0):  \n",
    "            min_time = 999999999\n",
    "  \n",
    "        if (arrival_time[index] == 0):  \n",
    "            final += 1\n",
    "            flag = False\n",
    "            final_time = time + 1\n",
    "            wait_time[index] = (final_time - process_info_list[index][1] - process_info_list[index][2]) \n",
    "            if (wait_time[index] < 0): \n",
    "                wait_time[index] = 0\n",
    "        time += 1\n",
    "\n",
    "def calculate_turnaround_time(process, n, wait_time, turnaround_time):  \n",
    "    for i in range(n): \n",
    "        turnaround_time[i] = process[i][1] + wait_time[i]  \n",
    "\n",
    "def calculate_average_time(process, n):  \n",
    "    wait_time = [0] * n \n",
    "    turnaround_time = [0] * n \n",
    "    list_ = []\n",
    "    \n",
    "    calculate_wait_time(process, n, wait_time)  \n",
    "    calculate_turnaround_time(process, n, wait_time, turnaround_time)\n",
    "    \n",
    "    total_time = 0\n",
    "    for i in range(n): \n",
    "        total_time = total_time + wait_time[i]\n",
    "        list_.append([process[i][0], process[i][1], wait_time[i]])\n",
    "    \n",
    "    return list_, (total_time/n)\n",
    "\n",
    "process_info_list = []\n",
    "\n",
    "for pro in process_list:\n",
    "    process_info_list.append([pro.name, pro.burst, pro.arrival]) \n",
    "    \n",
    "result, averaging_waiting_time = calculate_average_time(process_info_list, len(process_info_list))\n",
    "sorted_result = sorted(result, key=lambda pro: pro[2])\n",
    "\n",
    "for i in range(len(sorted_result)):\n",
    "    print(sorted_result[i][0], '->', end = ' ')\n",
    "    \n",
    "print('Finish!', '\\n')\n",
    "\n",
    "print('Averaging waiting time of SRTF:', averaging_waiting_time)"
   ]
  },
  {
   "cell_type": "markdown",
   "id": "6675f0fa",
   "metadata": {},
   "source": [
    "## Round Robin"
   ]
  },
  {
   "cell_type": "code",
   "execution_count": 4,
   "id": "bdeaf26f",
   "metadata": {},
   "outputs": [
    {
     "name": "stdout",
     "output_type": "stream",
     "text": [
      "p1 -> p2 -> p3 -> p4 -> p5 -> p6 -> p1 -> p2 -> p3 -> p4 -> p5 -> p6 -> p1 -> p2 -> p5 -> p6 -> p1 -> p2 -> Finish! \n",
      "\n",
      "Averaging waiting time of Round Robin: 22.833333333333332\n"
     ]
    }
   ],
   "source": [
    "burst_list = []\n",
    "for i in range(len(process_list)):\n",
    "    burst_list.append(process_list[i].burst)\n",
    "\n",
    "def rr(first_list, time_quantum, time_quantum_temp, empty_list):\n",
    "    list_ = []\n",
    "    for i in range(len(process_list)):\n",
    "        remain_time = first_list[i]-time_quantum\n",
    "        list_.append(remain_time)\n",
    "        if remain_time > -time_quantum:     \n",
    "            if (remain_time >= time_quantum) or (0 < remain_time < time_quantum):\n",
    "                time_quantum_temp2 = time_quantum_temp\n",
    "                time_quantum_temp += time_quantum\n",
    "                print(process_list[i].name, '->', end = ' ')\n",
    "                empty_list.append((process_list[i].name, time_quantum_temp2, time_quantum_temp))            \n",
    "            else:\n",
    "                time_quantum_temp2 = time_quantum_temp\n",
    "                time_quantum_temp += (time_quantum+remain_time)\n",
    "                print(process_list[i].name, '->', end = ' ')\n",
    "                empty_list.append((process_list[i].name, time_quantum_temp2, time_quantum_temp))            \n",
    "    count = 0\n",
    "    for i in list_:    \n",
    "        if i <= 0:\n",
    "            count += 1\n",
    "        if count == len(list_):\n",
    "            print('Finish!', '\\n')\n",
    "            #print(empty_list, '\\n')\n",
    "            \n",
    "            return empty_list\n",
    "    \n",
    "    return rr(list_, time_quantum, time_quantum_temp, empty_list)\n",
    "\n",
    "final = rr(burst_list, 3, 0, [])\n",
    "\n",
    "def rr_waiting_time(process_list, index):\n",
    "    p = []\n",
    "    for i in range(len(final)):\n",
    "        if final[i][0] == process_list[index].name:\n",
    "            p.append(final[i][1])\n",
    "            p.append(final[i][2])\n",
    "    p.remove(p[0])\n",
    "    p.remove(p[-1])\n",
    "    sum_ = 0\n",
    "    for i in range(0, len(p), 2):\n",
    "        sum_ += (p[i+1]-p[i])\n",
    "        \n",
    "    return sum_\n",
    "\n",
    "sum_waiting_time = 0\n",
    "for i in range(len(process_list)):\n",
    "    sum_waiting_time += rr_waiting_time(process_list, i)\n",
    "    \n",
    "print('Averaging waiting time of Round Robin:', sum_waiting_time/len(process_list))"
   ]
  }
 ],
 "metadata": {
  "kernelspec": {
   "display_name": "Python 3",
   "language": "python",
   "name": "python3"
  },
  "language_info": {
   "codemirror_mode": {
    "name": "ipython",
    "version": 3
   },
   "file_extension": ".py",
   "mimetype": "text/x-python",
   "name": "python",
   "nbconvert_exporter": "python",
   "pygments_lexer": "ipython3",
   "version": "3.8.8"
  }
 },
 "nbformat": 4,
 "nbformat_minor": 5
}
