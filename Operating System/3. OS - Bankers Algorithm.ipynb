{
 "cells": [
  {
   "cell_type": "code",
   "execution_count": 1,
   "id": "a1888b51",
   "metadata": {},
   "outputs": [],
   "source": [
    "class Process():\n",
    "    def __init__(self, name):\n",
    "        self.name = name\n",
    "        \n",
    "    def max(self):\n",
    "        self.max_ = max_\n",
    "        \n",
    "    def alloc(self):\n",
    "        self.alloc_ = alloc_\n",
    "        \n",
    "    def need(self):\n",
    "        self.need_ = need_"
   ]
  },
  {
   "cell_type": "code",
   "execution_count": 2,
   "id": "1f9da012",
   "metadata": {},
   "outputs": [],
   "source": [
    "p0 = Process('p0')\n",
    "p0.max = [6,0,1,2]\n",
    "p0.alloc = [4,0,0,1]\n",
    "p0.need = [p0.max[i]-p0.alloc[i] for i in range(len(p0.max))] # [2,0,1,1]\n",
    "\n",
    "p1 = Process('p1')\n",
    "p1.max = [1,7,5,0]\n",
    "p1.alloc = [1,1,1,0]\n",
    "p1.need = [p1.max[i]-p1.alloc[i] for i in range(len(p1.max))] # [0,6,4,0]\n",
    "\n",
    "p2 = Process('p2')\n",
    "p2.max = [2,3,5,6]\n",
    "p2.alloc = [1,2,5,4]\n",
    "p2.need = [p2.max[i]-p2.alloc[i] for i in range(len(p2.max))] # [1,1,0,2]\n",
    "\n",
    "p3 = Process('p3')\n",
    "p3.max = [1,6,5,3]\n",
    "p3.alloc = [0,6,3,3]\n",
    "p3.need = [p3.max[i]-p3.alloc[i] for i in range(len(p3.max))] # [1,0,2,0]\n",
    "\n",
    "p4 = Process('p4')\n",
    "p4.max = [1,6,5,6]\n",
    "p4.alloc = [0,2,1,2]\n",
    "p4.need = [p4.max[i]-p4.alloc[i] for i in range(len(p4.max))] # [1,4,4,4]\n",
    "\n",
    "first_availiable = [3,2,1,1]\n",
    "process_list = [p0,p1,p2,p3,p4]\n",
    "need_list = [p0.need, p1.need, p2.need, p3.need, p4.need]\n",
    "availiable_list = []"
   ]
  },
  {
   "cell_type": "code",
   "execution_count": 3,
   "id": "1c9588e7",
   "metadata": {},
   "outputs": [],
   "source": [
    "def func(need_list, safe_list = [], availiable = first_availiable):\n",
    "\n",
    "    for need in need_list:\n",
    "        temp = [availiable[i]-need[i] for i in range(len(need))]\n",
    "        flag_list = []\n",
    "        # print(temp)\n",
    "        for num in temp:\n",
    "            if num >= 0:\n",
    "                flag = True\n",
    "                flag_list.append(flag)\n",
    "            else:\n",
    "                flag = False\n",
    "                flag_list.append(flag)\n",
    "        # print(flag_list)\n",
    "        if all(flag_list):\n",
    "            for i in range(len(process_list)):\n",
    "                if need == process_list[i].need:\n",
    "                    safe_list.append(process_list[i].name)\n",
    "                    # print(process_list[i].max)\n",
    "                    availiable = [temp[j]+(process_list[i].max)[j] for j in range(len(need))]    \n",
    "            need_list.remove(need)   \n",
    "            break\n",
    "            \n",
    "    count = 0\n",
    "    for i in range(len(process_list)):\n",
    "        # print(count)\n",
    "        # print(len(process_list))\n",
    "        if (i+1) <= len(safe_list):\n",
    "            count += 1\n",
    "        if count == len(process_list):\n",
    "            #print('Finish!', '\\n')\n",
    "            return safe_list\n",
    "            \n",
    "    return func(need_list, safe_list, availiable)"
   ]
  },
  {
   "cell_type": "code",
   "execution_count": 4,
   "id": "3929d0b4",
   "metadata": {},
   "outputs": [
    {
     "name": "stdout",
     "output_type": "stream",
     "text": [
      "p0 -> p2 -> p3 -> p1 -> p4 -> Finish!\n",
      "It is safe state!\n"
     ]
    }
   ],
   "source": [
    "result = func(need_list, safe_list = [], availiable = first_availiable)\n",
    "\n",
    "for i in range(len(result)):\n",
    "    print(result[i], '->', end = ' ')\n",
    "    \n",
    "print('Finish!')\n",
    "\n",
    "if len(result) == len(process_list):\n",
    "    print('It is safe state!')\n",
    "else:\n",
    "    print('It is not safe state!')"
   ]
  },
  {
   "cell_type": "code",
   "execution_count": 5,
   "id": "c971d51d",
   "metadata": {},
   "outputs": [
    {
     "name": "stdout",
     "output_type": "stream",
     "text": [
      "P4 can be granted.\n"
     ]
    }
   ],
   "source": [
    "p4_request = [1,2,0,0]\n",
    "\n",
    "for i in range(len(p4_request)):\n",
    "    temp = [first_availiable[i]-p4_request[i] for i in range(len(p4_request))]\n",
    "    flag_list = []\n",
    "    for num in temp:\n",
    "        if num >= 0:\n",
    "            flag = True\n",
    "            flag_list.append(flag)\n",
    "        else:\n",
    "            flag = False\n",
    "            flag_list.append(flag)\n",
    "\n",
    "if all(flag_list):\n",
    "    temp = [p4.need[i]-p4_request[i] for i in range(len(p4_request))]\n",
    "    flag_list_ = []\n",
    "    for num in temp:\n",
    "        if num >= 0:\n",
    "            flag = True\n",
    "            flag_list_.append(flag)\n",
    "        else:\n",
    "            flag = False\n",
    "            flag_list_.append(flag)\n",
    "            \n",
    "if all(flag_list_):\n",
    "    print('P4 can be granted.')\n",
    "else:\n",
    "    print('P4 can not be granted.')"
   ]
  }
 ],
 "metadata": {
  "kernelspec": {
   "display_name": "Python 3",
   "language": "python",
   "name": "python3"
  },
  "language_info": {
   "codemirror_mode": {
    "name": "ipython",
    "version": 3
   },
   "file_extension": ".py",
   "mimetype": "text/x-python",
   "name": "python",
   "nbconvert_exporter": "python",
   "pygments_lexer": "ipython3",
   "version": "3.8.8"
  }
 },
 "nbformat": 4,
 "nbformat_minor": 5
}
