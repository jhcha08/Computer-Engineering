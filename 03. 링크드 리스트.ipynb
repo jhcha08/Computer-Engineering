{
 "cells": [
  {
   "cell_type": "markdown",
   "metadata": {},
   "source": [
    "## 1. 링크드 리스트 Node 구현"
   ]
  },
  {
   "cell_type": "code",
   "execution_count": 1,
   "metadata": {},
   "outputs": [],
   "source": [
    "class Node():\n",
    "    def __init__(self, data, next=None):\n",
    "        self.data = data\n",
    "        self.next = next # 따로 지정 안하면 None이고, 지정하면 next에 저장된 노드를 연결하게 됨"
   ]
  },
  {
   "cell_type": "markdown",
   "metadata": {},
   "source": [
    "## 2. Node와 Node 연결하기 (포인터 활용)"
   ]
  },
  {
   "cell_type": "code",
   "execution_count": 2,
   "metadata": {},
   "outputs": [],
   "source": [
    "node1 = Node(1) # data는 1, 주소는 None\n",
    "node2 = Node(2) # data는 2, 주소는 None\n",
    "node1.next = node2 # node1에 node2를 연결\n",
    "head = node1 # 링크드 리스트에서 가장 앞 노드를 알고 있어야 전체 링크드 리스트에 대한 작업 가능하므로 head를 지정"
   ]
  },
  {
   "cell_type": "markdown",
   "metadata": {},
   "source": [
    "## 3. 링크드 리스트로 데이터 추가하기"
   ]
  },
  {
   "cell_type": "code",
   "execution_count": 3,
   "metadata": {},
   "outputs": [],
   "source": [
    "class Node():\n",
    "    def __init__(self, data, next=None):\n",
    "        self.data = data\n",
    "        self.next = next\n",
    "        \n",
    "def add(data):\n",
    "    node = head # 첫번째 노드인 head를 node 변수에 저장 (즉 head가 미리 add 함수 바깥에 지정되어 있어야 함)\n",
    "    while node.next: # node에 연결된 노드, 즉 이미 지정된 주소가 있다면,\n",
    "        node = node.next # 계속해서 다음 새로운 노드를 찾아가게 됨\n",
    "    node.next = Node(data) # node에 연결된 노드가 없다면 새로 들어온 데이터 data를 그 노드에 연결시킴"
   ]
  },
  {
   "cell_type": "code",
   "execution_count": 4,
   "metadata": {},
   "outputs": [],
   "source": [
    "node1 = Node(1)\n",
    "head = node1 # add 함수 바깥에 미리 head를 지정\n",
    "\n",
    "for i in range(2,10):\n",
    "    add(i)"
   ]
  },
  {
   "cell_type": "code",
   "execution_count": 5,
   "metadata": {},
   "outputs": [
    {
     "name": "stdout",
     "output_type": "stream",
     "text": [
      "1\n",
      "2\n",
      "3\n",
      "4\n",
      "5\n",
      "6\n",
      "7\n",
      "8\n",
      "9\n"
     ]
    }
   ],
   "source": [
    "node = head # = Node(1)\n",
    "while node.next: # '어떤 노드'의 뒤로 연결된 노드가 있는 한,\n",
    "    print(node.data) # 그 '어떤 노드'를 계속 출력함\n",
    "    node = node.next # 계속해서 다음 노드를 지정해줌\n",
    "print(node.data) # 뒤로 연결된 노드가 없는, 마지막 노드도 출력하기 위함"
   ]
  },
  {
   "cell_type": "markdown",
   "metadata": {},
   "source": [
    "## 4. 링크드 리스트 데이터 사이에 데이터 추가하는 기능 구현"
   ]
  },
  {
   "cell_type": "code",
   "execution_count": 6,
   "metadata": {},
   "outputs": [],
   "source": [
    "node = Node(1)\n",
    "head = node\n",
    "\n",
    "for i in range(2,10): # 1~9의 데이터가 저장된 링크드 리스트 생성\n",
    "    add(i)\n",
    "    \n",
    "new_node = Node(1.5) # 위 링크드 리스트에서 1과 2사이에 1.5를 넣기 위함\n",
    "search = True\n",
    "while search:\n",
    "    if node.data == 1: \n",
    "        search = False # 1 다음에 1.5 넣어야 하므로 값이 1인 노드를 찾으면 search를 False로 바꿔주고 while문 중단\n",
    "    else:\n",
    "        node = node.next # 값이 1인 노드 찾지 못하면 계속해서 다음 노드로 옮겨가며 1을 검색\n",
    "        \n",
    "node_next = node.next # 기존 node의 주소는 node_next로 저장 (temp 개념)\n",
    "node.next = new_node # 이제 기존 node의 주소는 new_node로 변경됨\n",
    "new_node.next = node_next # 그리고 new_node의 주소는 node_next로 변경됨"
   ]
  },
  {
   "cell_type": "code",
   "execution_count": 7,
   "metadata": {},
   "outputs": [
    {
     "name": "stdout",
     "output_type": "stream",
     "text": [
      "1\n",
      "1.5\n",
      "2\n",
      "3\n",
      "4\n",
      "5\n",
      "6\n",
      "7\n",
      "8\n",
      "9\n"
     ]
    }
   ],
   "source": [
    "node = head # = Node(1)\n",
    "while node.next:\n",
    "    print(node.data)\n",
    "    node = node.next\n",
    "print(node.data)"
   ]
  },
  {
   "cell_type": "markdown",
   "metadata": {},
   "source": [
    "## 5. 링크드 리스트 클래스 구현"
   ]
  },
  {
   "cell_type": "code",
   "execution_count": 8,
   "metadata": {},
   "outputs": [],
   "source": [
    "class Node:\n",
    "    def __init__(self, data, next=None):\n",
    "        self.data = data\n",
    "        self.next = next\n",
    "        \n",
    "class NodeMgmt:\n",
    "    def __init__(self, data):\n",
    "        self.head = Node(data) # 위에서 node = head (= Node(1)) 라고 지정한 것처럼, 새로 들어온 첫 데이터를 head로 지정\n",
    "        \n",
    "    def add(self, data): # 데이터 추가 메소드\n",
    "        if self.head == None:\n",
    "            self.head = Node(data) # 그럴리는 없겠지만, 만약 head가 없다면 새로 들어온 첫 데이터를 head로 지정, (방어 코드)\n",
    "        else:\n",
    "            node = self.head\n",
    "            while node.next:\n",
    "                node = node.next\n",
    "            node.next = Node(data)\n",
    "            \n",
    "    def desc(self): # 데이터 출력 메소드\n",
    "        node = self.head\n",
    "        while node.next:\n",
    "            print(node.data)\n",
    "            node = node.next\n",
    "        print(node.data)"
   ]
  },
  {
   "cell_type": "code",
   "execution_count": 9,
   "metadata": {},
   "outputs": [],
   "source": [
    "linkedlist = NodeMgmt(0)"
   ]
  },
  {
   "cell_type": "code",
   "execution_count": 10,
   "metadata": {},
   "outputs": [
    {
     "name": "stdout",
     "output_type": "stream",
     "text": [
      "0\n"
     ]
    }
   ],
   "source": [
    "linkedlist.desc()"
   ]
  },
  {
   "cell_type": "code",
   "execution_count": 11,
   "metadata": {},
   "outputs": [
    {
     "name": "stdout",
     "output_type": "stream",
     "text": [
      "0\n",
      "1\n",
      "2\n",
      "3\n",
      "4\n",
      "5\n",
      "6\n",
      "7\n",
      "8\n",
      "9\n"
     ]
    }
   ],
   "source": [
    "for data in range(1,10):\n",
    "    linkedlist.add(data)\n",
    "\n",
    "linkedlist.desc()"
   ]
  },
  {
   "cell_type": "markdown",
   "metadata": {},
   "source": [
    "## 6. 링크드 리스트 노드 삭제 구현 (class NodeMgmt에 넣으면 됨)"
   ]
  },
  {
   "cell_type": "code",
   "execution_count": 12,
   "metadata": {},
   "outputs": [],
   "source": [
    "def delete(self, data): # data라는 값을 가진 노드를 삭제하는 메소드\n",
    "    if self.head == None:\n",
    "        print('해당 값 가진 노드가 없음') # head가 없다는 건 정의된 링크드 리스트가 없다는 것\n",
    "        return # 아무것도 return 안하면 그냥 끝나는 것\n",
    "    \n",
    "    if self.head.data == data: # head 노드를 삭제하는 경우\n",
    "        temp = self.head # 기존 head는 따로 저장\n",
    "        self.head = self.head.next # 기존의 head가 가리키는 다음 노드를 새로운 head로 지정\n",
    "        del temp # 기존 head 삭제\n",
    "    \n",
    "    else: # 삭제할 데이터가 head가 아닌, 중간 or 마지막 노드인 경우\n",
    "        node = self.head\n",
    "        while node.next: # 현재 노드에 연결된 노드가 있는 한,\n",
    "            if node.next.data == data: # 연결된 다음 노드의 데이터가 삭제할 값인 data라면,\n",
    "                temp = node.next\n",
    "                node.next = node.next.next # 해당 노드의 다음 노드는 해당 노드의 다음다음 노드가 될 것이고,\n",
    "                del temp # 해당 노드의 다음 노드는 삭제\n",
    "                return\n",
    "            else:\n",
    "                node = node.next # 연결된 노드가 삭제할 노드가 아니라면 그냥 다음 노드로 옮겨가면 됨"
   ]
  },
  {
   "cell_type": "markdown",
   "metadata": {},
   "source": [
    "## 7. 링크드 리스트 클래스 완성본"
   ]
  },
  {
   "cell_type": "code",
   "execution_count": 13,
   "metadata": {},
   "outputs": [],
   "source": [
    "class Node:\n",
    "    def __init__(self, data, next=None):\n",
    "        self.data = data\n",
    "        self.next = next\n",
    "        \n",
    "class NodeMgmt:\n",
    "    def __init__(self, data):\n",
    "        self.head = Node(data) \n",
    "        \n",
    "    def add(self, data):\n",
    "        if self.head == None:\n",
    "            self.head = Node(data)\n",
    "        else:\n",
    "            node = self.head\n",
    "            while node.next:\n",
    "                node = node.next\n",
    "            node.next = Node(data)\n",
    "            \n",
    "    def desc(self):\n",
    "        node = self.head\n",
    "        while node.next:\n",
    "            print(node.data)\n",
    "            node = node.next\n",
    "        print(node.data)\n",
    "        \n",
    "    def delete(self, data):\n",
    "        if self.head == None:\n",
    "            print('해당 값 가진 노드가 없음')\n",
    "            return\n",
    "\n",
    "        if self.head.data == data:\n",
    "            temp = self.head\n",
    "            self.head = self.head.next\n",
    "            del temp\n",
    "\n",
    "        else:\n",
    "            node = self.head\n",
    "            while node.next:\n",
    "                if node.next.data == data:\n",
    "                    temp = node.next\n",
    "                    node.next = node.next.next\n",
    "                    del temp\n",
    "                    return\n",
    "                else:\n",
    "                    node = node.next"
   ]
  },
  {
   "cell_type": "code",
   "execution_count": 14,
   "metadata": {},
   "outputs": [],
   "source": [
    "linkedlist2 = NodeMgmt(0)\n",
    "\n",
    "for i in range(1,10):\n",
    "    linkedlist2.add(i)"
   ]
  },
  {
   "cell_type": "code",
   "execution_count": 15,
   "metadata": {},
   "outputs": [
    {
     "name": "stdout",
     "output_type": "stream",
     "text": [
      "0\n",
      "1\n",
      "2\n",
      "3\n",
      "4\n",
      "5\n",
      "6\n",
      "7\n",
      "8\n",
      "9\n"
     ]
    }
   ],
   "source": [
    "linkedlist2.desc()"
   ]
  },
  {
   "cell_type": "code",
   "execution_count": 16,
   "metadata": {},
   "outputs": [],
   "source": [
    "linkedlist2.delete(2)"
   ]
  },
  {
   "cell_type": "code",
   "execution_count": 17,
   "metadata": {},
   "outputs": [
    {
     "name": "stdout",
     "output_type": "stream",
     "text": [
      "0\n",
      "1\n",
      "3\n",
      "4\n",
      "5\n",
      "6\n",
      "7\n",
      "8\n",
      "9\n"
     ]
    }
   ],
   "source": [
    "linkedlist2.desc()"
   ]
  },
  {
   "cell_type": "markdown",
   "metadata": {},
   "source": [
    "## 8. 더블 링크드 리스트 클래스 구현"
   ]
  },
  {
   "cell_type": "code",
   "execution_count": 18,
   "metadata": {},
   "outputs": [],
   "source": [
    "class Node:\n",
    "    def __init__(self, data, prev=None, next=None):\n",
    "        self.prev = prev # 이전과 다르게 더블 링크드 리스트는 앞에도 주소가 담겨있어야 하므로, 그것을 prev로 설정\n",
    "        self.data = data\n",
    "        self.next = next\n",
    "        \n",
    "class NodeMgmt:\n",
    "    def __init__(self, data):\n",
    "        self.head = Node(data) # 디폴트 데이터를 처음에 넣어주면 그 데이터를 기반으로 최초 노드가 생성되고 그게 head 노드\n",
    "        self.tail = self.head # 더블 링크드 리스트에선 끝에서부터도 검색이 가능해서 tail도 설정. 처음엔 head와 tail이 같음\n",
    "        \n",
    "    def insert(self, data):\n",
    "        if self.head == None: # 우선 head가 없으면 들어온 data를 이용해서 head 만들고 그에 따라 tail도 만듦\n",
    "            self.head = Node(data)\n",
    "            self.tail = self.head\n",
    "        else:\n",
    "            node = self.head \n",
    "            while node.next:\n",
    "                node = node.next # head 노드에서 시작해서 끝 노드까지 찾아가는 과정\n",
    "            new = Node(data)\n",
    "            node.next = new\n",
    "            new.prev = node\n",
    "            self.tail = new # 더블 링크드 리스트의 끝에 추가된 새로운 노드가 tail이므로 이렇게 설정\n",
    "            \n",
    "    def desc(self):\n",
    "        node = self.head\n",
    "        while node.next:\n",
    "            print(node.data)\n",
    "            node = node.next\n",
    "        print(node.data)"
   ]
  },
  {
   "cell_type": "code",
   "execution_count": 19,
   "metadata": {},
   "outputs": [],
   "source": [
    "linkedlist3 = NodeMgmt(0)"
   ]
  },
  {
   "cell_type": "code",
   "execution_count": 20,
   "metadata": {},
   "outputs": [],
   "source": [
    "for i in range(1,10):\n",
    "    linkedlist3.insert(i)"
   ]
  },
  {
   "cell_type": "code",
   "execution_count": 21,
   "metadata": {},
   "outputs": [
    {
     "name": "stdout",
     "output_type": "stream",
     "text": [
      "0\n",
      "1\n",
      "2\n",
      "3\n",
      "4\n",
      "5\n",
      "6\n",
      "7\n",
      "8\n",
      "9\n"
     ]
    }
   ],
   "source": [
    "linkedlist3.desc()"
   ]
  },
  {
   "cell_type": "markdown",
   "metadata": {},
   "source": [
    "## 9. 더블 링크드 리스트에서 검색하는 함수 만들기"
   ]
  },
  {
   "cell_type": "code",
   "execution_count": 22,
   "metadata": {},
   "outputs": [],
   "source": [
    "def search_from_head(self, data):\n",
    "    if self.head == None: # 처음부터 head가 없으면 False\n",
    "        return False\n",
    "    \n",
    "    node = self.head # head부터 검색이므로 검색 대상 첫 노드는 head\n",
    "    while node: # (굳이 node.next가 아닌 node로 해도 됨)\n",
    "        if node.data == data: # 내가 찾을 값인 data가 특정 노드인 node의 data인지 확인하고 맞으면 return,\n",
    "            return node\n",
    "        else:\n",
    "            node = node.next # 아니면 계속 다음 노드로 옮겨가며 검색\n",
    "            \n",
    "    return False # while문 다 돌았는데도, 즉 모든 노드를 검색했는데도 원하는 data가 검색 안되면 데이터가 아예 없다는 것, False\n",
    "\n",
    "def search_from_tail(self, data):\n",
    "    if self.head == None:\n",
    "        return False\n",
    "    \n",
    "    node = self.tail # tail부터 검색이므로 검색 대상 첫 노드는 tail\n",
    "    while node:\n",
    "        if node.data == data:\n",
    "            return node\n",
    "        else:\n",
    "            node = node.prev # 찾는 노드가 아니면 다음 노드로 넘어가는데, 이번에는 next가 아닌 prev\n",
    "            \n",
    "    return False"
   ]
  },
  {
   "cell_type": "markdown",
   "metadata": {},
   "source": [
    "## 10. 노드 데이터가 특정 숫자인 노드 앞에 데이터를 추가하는 함수 만들기"
   ]
  },
  {
   "cell_type": "code",
   "execution_count": 23,
   "metadata": {},
   "outputs": [],
   "source": [
    "def insert_before(self, data, before_data): # before_data 노드 앞에 data 노드가 들어갈 것이라는 뜻\n",
    "    if self.head == None:\n",
    "        self.head = Node(data) # head가 없으면 입력된 data를 head로\n",
    "        return True\n",
    "    else:\n",
    "        node = self.tail\n",
    "        while node.data != before_data: # 끝에서부터 node.prev를 이용해 앞으로 가면서 before_data에 해당하는 데이터 찾아나감\n",
    "            node = node.prev\n",
    "            if node == None: # node가 None이라는건 앞으로 끝까지 탐색해도 해당 데이터 없다는 것이므로 False\n",
    "                return False\n",
    "        \n",
    "        new = Node(data) # while문 도중에 나왔으면, 즉 특정 숫자를 가진 노드인 node를 찾았으면, 새로운 data를 가진 노드를 정의\n",
    "        \n",
    "        before_new = new.prev # 따로 빼서 정의\n",
    "        \n",
    "        before_new.next = new # new 노드와 기존 노드 node의 prev와 next끼리 연결하는 과정들\n",
    "        new.prev = before_new\n",
    "        new.next = node\n",
    "        node.prev = new\n",
    "        \n",
    "        return True"
   ]
  },
  {
   "cell_type": "markdown",
   "metadata": {},
   "source": [
    "## 11. 완성된 더블 링크드 리스트 클래스"
   ]
  },
  {
   "cell_type": "code",
   "execution_count": 24,
   "metadata": {},
   "outputs": [],
   "source": [
    "class Node:\n",
    "    def __init__(self, data, prev=None, next=None):\n",
    "        self.prev = prev\n",
    "        self.data = data\n",
    "        self.next = next\n",
    "        \n",
    "class NodeMgmt:\n",
    "    def __init__(self, data):\n",
    "        self.head = Node(data)\n",
    "        self.tail = self.head\n",
    "        \n",
    "    def insert(self, data):\n",
    "        if self.head == None:\n",
    "            self.head = Node(data)\n",
    "            self.tail = self.head\n",
    "        else:\n",
    "            node = self.head \n",
    "            while node.next:\n",
    "                node = node.next\n",
    "            new = Node(data)\n",
    "            node.next = new\n",
    "            new.prev = node\n",
    "            self.tail = new\n",
    "            \n",
    "    def desc(self):\n",
    "        node = self.head\n",
    "        while node.next:\n",
    "            print(node.data)\n",
    "            node = node.next\n",
    "        print(node.data)\n",
    "        \n",
    "    def search_from_head(self, data):\n",
    "        if self.head == None:\n",
    "            return False\n",
    "\n",
    "        node = self.head\n",
    "        while node:\n",
    "            if node.data == data:\n",
    "                return node\n",
    "            else:\n",
    "                node = node.next\n",
    "\n",
    "        return False\n",
    "\n",
    "    def search_from_tail(self, data):\n",
    "        if self.tail == None:\n",
    "            return False\n",
    "\n",
    "        node = self.tail\n",
    "        while node:\n",
    "            if node.data == data:\n",
    "                return node\n",
    "            else:\n",
    "                node = node.prev\n",
    "\n",
    "        return False\n",
    "    \n",
    "    def insert_before(self, data, before_data):\n",
    "        if self.head == None:\n",
    "            self.head = Node(data)\n",
    "            return True\n",
    "        else:\n",
    "            node = self.tail\n",
    "            while node.data != before_data:\n",
    "                node = node.prev\n",
    "                if node == None:\n",
    "                    return False\n",
    "\n",
    "            new = Node(data)\n",
    "\n",
    "            before_new = node.prev\n",
    "\n",
    "            before_new.next = new\n",
    "            new.prev = before_new\n",
    "            new.next = node\n",
    "            node.prev = new\n",
    "\n",
    "            return True"
   ]
  },
  {
   "cell_type": "code",
   "execution_count": 25,
   "metadata": {},
   "outputs": [
    {
     "name": "stdout",
     "output_type": "stream",
     "text": [
      "0\n",
      "1\n",
      "2\n",
      "3\n",
      "4\n",
      "5\n",
      "6\n",
      "7\n",
      "8\n",
      "9\n"
     ]
    }
   ],
   "source": [
    "double_linkedlist = NodeMgmt(0)\n",
    "\n",
    "for data in range(1,10):\n",
    "    double_linkedlist.insert(data)\n",
    "    \n",
    "double_linkedlist.desc()"
   ]
  },
  {
   "cell_type": "code",
   "execution_count": 26,
   "metadata": {},
   "outputs": [
    {
     "name": "stdout",
     "output_type": "stream",
     "text": [
      "0\n",
      "1\n",
      "1.5\n",
      "2\n",
      "3\n",
      "4\n",
      "5\n",
      "6\n",
      "7\n",
      "8\n",
      "9\n"
     ]
    }
   ],
   "source": [
    "double_linkedlist.insert_before(1.5,2) # 2 앞에 1.5를 넣겠다\n",
    "double_linkedlist.desc()"
   ]
  },
  {
   "cell_type": "code",
   "execution_count": 27,
   "metadata": {},
   "outputs": [
    {
     "data": {
      "text/plain": [
       "<__main__.Node at 0x2479fa469c8>"
      ]
     },
     "execution_count": 27,
     "metadata": {},
     "output_type": "execute_result"
    }
   ],
   "source": [
    "double_linkedlist.search_from_tail(1.5) # 이것만 실행하면 1.5라는 객체가 있다고 뜸"
   ]
  },
  {
   "cell_type": "code",
   "execution_count": 28,
   "metadata": {},
   "outputs": [
    {
     "data": {
      "text/plain": [
       "1.5"
      ]
     },
     "execution_count": 28,
     "metadata": {},
     "output_type": "execute_result"
    }
   ],
   "source": [
    "find_node = double_linkedlist.search_from_tail(1.5)\n",
    "find_node.data"
   ]
  }
 ],
 "metadata": {
  "kernelspec": {
   "display_name": "Python 3",
   "language": "python",
   "name": "python3"
  },
  "language_info": {
   "codemirror_mode": {
    "name": "ipython",
    "version": 3
   },
   "file_extension": ".py",
   "mimetype": "text/x-python",
   "name": "python",
   "nbconvert_exporter": "python",
   "pygments_lexer": "ipython3",
   "version": "3.7.4"
  }
 },
 "nbformat": 4,
 "nbformat_minor": 2
}
