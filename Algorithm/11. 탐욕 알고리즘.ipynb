{
 "cells": [
  {
   "cell_type": "markdown",
   "metadata": {},
   "source": [
    "## 1. 동전 문제"
   ]
  },
  {
   "cell_type": "code",
   "execution_count": 1,
   "metadata": {},
   "outputs": [],
   "source": [
    "# 지불해야 하는 값이 4720원일때, 1원, 50원, 100원, 500원 동전으로 동전의 수가 가장 적게 지불하기\n",
    "\n",
    "coin_list = [1, 50, 100, 500]\n",
    "\n",
    "def min_coin_count(value, coin_list):\n",
    "    coin_list.sort(reverse=True) # 큰 값부터 먼저 고려하는게 동전의 수를 최대한 적게 하므로 내림차순으로 먼저 정렬\n",
    "    coin_num = 0\n",
    "    detail = list() # 어떤 동전이 얼마나 들어갔는지 알기 위한 리스트\n",
    "    for coin in coin_list:\n",
    "        num = value // coin\n",
    "        coin_num += num\n",
    "        value -= num * coin\n",
    "        detail.append([num, coin])\n",
    "    return coin_num, detail"
   ]
  },
  {
   "cell_type": "code",
   "execution_count": 2,
   "metadata": {},
   "outputs": [
    {
     "data": {
      "text/plain": [
       "(31, [[9, 500], [2, 100], [0, 50], [20, 1]])"
      ]
     },
     "execution_count": 2,
     "metadata": {},
     "output_type": "execute_result"
    }
   ],
   "source": [
    "min_coin_count(4720, coin_list)"
   ]
  },
  {
   "cell_type": "markdown",
   "metadata": {},
   "source": [
    "## 2. 부분 배낭 문제 (Fractional Knapsack Problem)"
   ]
  },
  {
   "cell_type": "code",
   "execution_count": 3,
   "metadata": {},
   "outputs": [],
   "source": [
    "# 무게 제한이 30인 배낭에 최대 가치를 가지도록 물건을 넣는 문제\n",
    "# 각 물건은 무게와 가치로 표현될 수 있음. 물건은 쪼개져서 일부분만 배낭에 넣어질수도 있음. 중복 X\n",
    "\n",
    "data_list = [(10,10), (15,12), (20,10), (25,8), (30,5)] # (무게, 가치)\n",
    "\n",
    "def get_max_value(data_list, capacity):\n",
    "    data_list = sorted(data_list, key = lambda x : x[1]/x[0], reverse = True) # sort의 기준을 key로 정할 수 있음\n",
    "    total_value = 0\n",
    "    details = list()\n",
    "    for data in data_list:\n",
    "        if capacity - data[0] >= 0: # 즉, 배낭의 남은 용량이 물건 하나보다 클 때\n",
    "            capacity -= data[0] # 물건이 넣어지면 그만큼 용량을 줄임\n",
    "            total_value += data[1] # 물건이 넣어지면 그만큼 가치를 높임\n",
    "            details.append([data[0], data[1], 1]) # 물건 하나가 다 들어가면 1이라고 표시\n",
    "        \n",
    "        else: # 남은 용량보다 넣을 물건의 무게가 크면 그때부턴 쪼개서 넣어야함\n",
    "            fraction = capacity / data[0] # 쪼개져 넣어질 비율을 계산\n",
    "            total_value += fraction * data[1] # 가치도 비율을 따라감\n",
    "            details.append([data[0], data[1], fraction]) # 쪼개져 넣어지면 그 비율을 표시\n",
    "            \n",
    "            break # 물건을 쪼개서 넣을 지경까지 왔다면 이후엔 이미 다 채운 것이므로 굳이 더 고려할 필요 없어서 break\n",
    "            \n",
    "    return total_value, details"
   ]
  },
  {
   "cell_type": "code",
   "execution_count": 4,
   "metadata": {},
   "outputs": [
    {
     "data": {
      "text/plain": [
       "(24.5, [[10, 10, 1], [15, 12, 1], [20, 10, 0.25]])"
      ]
     },
     "execution_count": 4,
     "metadata": {},
     "output_type": "execute_result"
    }
   ],
   "source": [
    "get_max_value(data_list, 30)"
   ]
  }
 ],
 "metadata": {
  "kernelspec": {
   "display_name": "Python 3",
   "language": "python",
   "name": "python3"
  },
  "language_info": {
   "codemirror_mode": {
    "name": "ipython",
    "version": 3
   },
   "file_extension": ".py",
   "mimetype": "text/x-python",
   "name": "python",
   "nbconvert_exporter": "python",
   "pygments_lexer": "ipython3",
   "version": "3.7.4"
  }
 },
 "nbformat": 4,
 "nbformat_minor": 2
}
