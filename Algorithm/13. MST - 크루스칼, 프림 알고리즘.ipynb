{
 "cells": [
  {
   "cell_type": "markdown",
   "metadata": {},
   "source": [
    "## 1. 크루스칼 알고리즘"
   ]
  },
  {
   "cell_type": "code",
   "execution_count": 1,
   "metadata": {},
   "outputs": [],
   "source": [
    "mygraph = {\n",
    "    'vertices': ['A', 'B', 'C', 'D', 'E', 'F', 'G'],\n",
    "    'edges': [\n",
    "        (7, 'A', 'B'),\n",
    "        (5, 'A', 'D'),\n",
    "        (7, 'B', 'A'),\n",
    "        (8, 'B', 'C'),\n",
    "        (9, 'B', 'D'),\n",
    "        (7, 'B', 'E'),\n",
    "        (8, 'C', 'B'),\n",
    "        (5, 'C', 'E'),\n",
    "        (5, 'D', 'A'),\n",
    "        (9, 'D', 'B'),\n",
    "        (7, 'D', 'E'),\n",
    "        (6, 'D', 'F'),\n",
    "        (7, 'E', 'B'),\n",
    "        (5, 'E', 'C'),\n",
    "        (7, 'E', 'D'),\n",
    "        (8, 'E', 'F'),\n",
    "        (9, 'E', 'G'),\n",
    "        (6, 'F', 'D'),\n",
    "        (8, 'F', 'E'),\n",
    "        (11, 'F', 'G'),\n",
    "        (9, 'G', 'E'),\n",
    "        (11, 'G', 'F')\n",
    "    ]\n",
    "}"
   ]
  },
  {
   "cell_type": "code",
   "execution_count": 2,
   "metadata": {},
   "outputs": [],
   "source": [
    "parent = dict() # 각 노드의 루트 노드를 저장하는 역할\n",
    "rank = dict() # 특정 노드가 key값이 되어 그 노드의 rank 값을 저장\n",
    "\n",
    "def find(node):\n",
    "    # path compression\n",
    "    if parent[node] != node: # 노드 자신이 루트 노드인 순간이 올 때까지 계속해서\n",
    "        parent[node] = find(parent[node]) # 재귀 형식을 통해 루트 노드를 찾아감\n",
    "    return parent[node]\n",
    "\n",
    "def union(node_v, node_u):\n",
    "    root1 = find(node_v) # 특정 두 노드(node_v, node_u)의 루트 노드를 찾아감\n",
    "    root2 = find(node_u)\n",
    "    # union-by-rank\n",
    "    if rank[root1] > rank[root2]: # 두 노드 중 높이가 더 높은 노드를 루트 노드로 삼고,\n",
    "        parent[root2] = root1     # 그 루트 노드에 높이가 더 작은 루트 노드를 연결시킨다\n",
    "    else:\n",
    "        parent[root1] = root2\n",
    "        if rank[root1] == rank[root2]: # 만약 두 루트 노드의 높이가 같다면,\n",
    "            rank[root2] += 1           # 아무 노드의 높이를 1 증가시킨다\n",
    "            \n",
    "def make_set(node):     # 초기화하는 함수\n",
    "    parent[node] = node # 들어온 노드 자기 자신이 루트 노드가 되고,\n",
    "    rank[node] = 0      # 그때 높이는 0\n",
    "    \n",
    "def kruskal(graph):\n",
    "    mst = list() # MST를 리스트 형태로 만들어서 리턴할 것\n",
    "    \n",
    "    # 1. 초기화\n",
    "    for node in graph['vertices']: # graph로부터 노드 목록을 받아와 개별 부분집합으로 초기화\n",
    "        make_set(node)\n",
    "        \n",
    "    # 2. 엣지 가중치 기반 정렬\n",
    "    edges = graph['edges']\n",
    "    edges.sort() # sort 메소드를 통해 가중치 기준으로 엣지를 정렬\n",
    "    \n",
    "    # 3. 엣지 연결 (사이클 X)\n",
    "    for edge in edges:\n",
    "        weight, node_v, node_u = edge # 튜플 하나하나를 불러옴\n",
    "        if find(node_v) != find(node_u): # 각각의 노드의 루트 노드가 다르면 사이클 X이므로,\n",
    "            union(node_v, node_u)        # union을 해준다\n",
    "            mst.append(edge)             # union된 edge 튜플에 대해서는 그것들을 mst에 넣는다\n",
    "    return mst"
   ]
  },
  {
   "cell_type": "code",
   "execution_count": 3,
   "metadata": {},
   "outputs": [
    {
     "data": {
      "text/plain": [
       "[(5, 'A', 'D'),\n",
       " (5, 'C', 'E'),\n",
       " (6, 'D', 'F'),\n",
       " (7, 'A', 'B'),\n",
       " (7, 'B', 'E'),\n",
       " (9, 'E', 'G')]"
      ]
     },
     "execution_count": 3,
     "metadata": {},
     "output_type": "execute_result"
    }
   ],
   "source": [
    "kruskal(mygraph)"
   ]
  },
  {
   "cell_type": "markdown",
   "metadata": {},
   "source": [
    "## 2. heapq.heapify()와 defaultdict() 함수 활용"
   ]
  },
  {
   "cell_type": "code",
   "execution_count": 4,
   "metadata": {},
   "outputs": [
    {
     "name": "stdout",
     "output_type": "stream",
     "text": [
      "[2, 'A']\n",
      "[3, 'C']\n",
      "[5, 'B']\n"
     ]
    }
   ],
   "source": [
    "import heapq\n",
    "\n",
    "queue = []\n",
    "graph = [[2,'A'], [5,'B'], [3,'C']]\n",
    "\n",
    "for edge in graph:\n",
    "    heapq.heappush(queue, edge) # 여기까지 하면 큐에 엣지들이 정렬 안된채로 들어감\n",
    "    \n",
    "for index in range(len(queue)):\n",
    "    print(heapq.heappop(queue)) # 그래도 heappop을 통해 큐의 원소들을 하나씩 꺼내보면 정렬되어 프린트됨"
   ]
  },
  {
   "cell_type": "code",
   "execution_count": 5,
   "metadata": {},
   "outputs": [
    {
     "name": "stdout",
     "output_type": "stream",
     "text": [
      "[]\n"
     ]
    }
   ],
   "source": [
    "print(queue) # queue의 원소들이 모두 pop되어 빈 큐가 되어버림\n",
    "\n",
    "# 즉, 이 방법을 쓰면 heapq.heappop 과정에서 리스트 데이터가 힙 구조로 변환됨"
   ]
  },
  {
   "cell_type": "code",
   "execution_count": 6,
   "metadata": {},
   "outputs": [
    {
     "name": "stdout",
     "output_type": "stream",
     "text": [
      "[2, 'A']\n",
      "[3, 'C']\n",
      "[5, 'B']\n"
     ]
    }
   ],
   "source": [
    "# heapq.heapify()를 통해 리스트 데이터를 힙 구조로 한번에 변환할 수 있음 (0번 인덱스를 우선 순위로 인지함)\n",
    "\n",
    "import heapq\n",
    "\n",
    "graph = [[2,'A'], [5,'B'], [3,'C']]\n",
    "\n",
    "heapq.heapify(graph)\n",
    "\n",
    "for index in range(len(graph)):\n",
    "    print(heapq.heappop(graph))"
   ]
  },
  {
   "cell_type": "code",
   "execution_count": 7,
   "metadata": {},
   "outputs": [
    {
     "name": "stdout",
     "output_type": "stream",
     "text": [
      "[]\n"
     ]
    }
   ],
   "source": [
    "print(graph) # graph의 원소들이 모두 pop되어 빈 큐가 되어버림"
   ]
  },
  {
   "cell_type": "code",
   "execution_count": 8,
   "metadata": {},
   "outputs": [
    {
     "name": "stdout",
     "output_type": "stream",
     "text": [
      "[]\n"
     ]
    }
   ],
   "source": [
    "from collections import defaultdict\n",
    "\n",
    "list_dict = defaultdict(list)\n",
    "print(list_dict['key1']) # key에 대한 value가 지정 안되어있어도 빈 리스트를 반환해줌"
   ]
  },
  {
   "cell_type": "code",
   "execution_count": 9,
   "metadata": {},
   "outputs": [
    {
     "name": "stdout",
     "output_type": "stream",
     "text": [
      "defaultdict 사용하기\n"
     ]
    }
   ],
   "source": [
    "list_dict2 = dict()\n",
    "\n",
    "try:\n",
    "    print(list_dict2['key1']) # Keyerror: 'key1'이라는 에러가 뜨면서, key를 설정하라는 에러 뜸\n",
    "except:\n",
    "    print('defaultdict 사용하기')"
   ]
  },
  {
   "cell_type": "markdown",
   "metadata": {},
   "source": [
    "## 3. 프림 알고리즘"
   ]
  },
  {
   "cell_type": "code",
   "execution_count": 10,
   "metadata": {},
   "outputs": [],
   "source": [
    "myedges = [\n",
    "    (7, 'A', 'B'), (5, 'A', 'D'),\n",
    "    (8, 'B', 'C'), (9, 'B', 'D'), (7, 'B', 'E'),\n",
    "    (5, 'C', 'E'),\n",
    "    (7, 'D', 'E'), (6, 'D', 'F'),\n",
    "    (8, 'E', 'F'), (9, 'E', 'G'),\n",
    "    (11, 'F', 'G')\n",
    "]\n",
    "\n",
    "from collections import defaultdict\n",
    "from heapq import *\n",
    "\n",
    "def prim(start_node, edges):\n",
    "    \n",
    "    adjacent_edges = defaultdict(list) # 모든 간선 정보를 저장할 dict\n",
    "    \n",
    "    for weight, n1, n2 in edges: # n1에서 n2로 가는 엣지의 가중치가 weight\n",
    "        adjacent_edges[n1].append((weight, n1, n2))\n",
    "        adjacent_edges[n2].append((weight, n2, n1)) # 중복된 노드와 엣지 정보까지 고려해서 adjacent의 key의 value값으로\n",
    "                                                    # 집어넣어줌. 즉, adjacent의 key값으로 노드를 넣으면 해당 노드에서 \n",
    "                                                    # 다른 노드로 가는 엣지의 정보가 다 들어있는셈.\n",
    "    mst = list()\n",
    "    connected_nodes = set(start_node) # 연결된 노드들이 들어갈 집합\n",
    "    \n",
    "    candidate_edge_list = adjacent_edges[start_node] # 선택된 노드(처음엔 start_node)에 연결된 엣지 정보를 저장할 리스트\n",
    "                                                     # 즉, MST가 될 엣지들의 후보군\n",
    "        \n",
    "    heapify(candidate_edge_list) # 엣지 리스트에서 최소 가중치를 가지는 엣지부터 추출하기 위해 엣지 리스트를 최소 힙 구조로\n",
    "                                 # 만드는 과정. 이제 heappo만 하면 최소 가중치인 엣지가 추출됨\n",
    "        \n",
    "    while candidate_edge_list: # 엣지 리스트에 더이상 엣지가 없을 때까지\n",
    "        weight, n1, n2 = heappop(candidate_edge_list) # 최소 가중치 갖는 엣지의 정보 추출\n",
    "        \n",
    "        if n2 not in connected_nodes:    # 해당 엣지에 연결된 인접 노드가 '연결된 노드 집합'에 이미 들어있다면 스킵,\n",
    "            connected_nodes.add(n2)      # 아니면 '연결된 노드 집합'에 정보 삽입하고\n",
    "            mst.append((weight, n1, n2)) # MST에도 정보 삽입\n",
    "            \n",
    "            for edge in adjacent_edges[n2]:             # 해당 엣지(edge)에 연결된 인접 노드의 엣지들 중,\n",
    "                if edge[2] not in connected_nodes:      # '연결된 노드 집합'에 없는 노드와 연결된 엣지들만,\n",
    "                    heappush(candidate_edge_list, edge) # 엣지 리스트에 삽입(heappush). 어차피 스킵될 엣지를\n",
    "                                                        # 엣지 리스트에 넣지 않음으로써 비용 절감.\n",
    "    return mst"
   ]
  },
  {
   "cell_type": "code",
   "execution_count": 11,
   "metadata": {},
   "outputs": [
    {
     "data": {
      "text/plain": [
       "[(5, 'A', 'D'),\n",
       " (6, 'D', 'F'),\n",
       " (7, 'A', 'B'),\n",
       " (7, 'B', 'E'),\n",
       " (5, 'E', 'C'),\n",
       " (9, 'E', 'G')]"
      ]
     },
     "execution_count": 11,
     "metadata": {},
     "output_type": "execute_result"
    }
   ],
   "source": [
    "prim('A', myedges)"
   ]
  }
 ],
 "metadata": {
  "kernelspec": {
   "display_name": "Python 3",
   "language": "python",
   "name": "python3"
  },
  "language_info": {
   "codemirror_mode": {
    "name": "ipython",
    "version": 3
   },
   "file_extension": ".py",
   "mimetype": "text/x-python",
   "name": "python",
   "nbconvert_exporter": "python",
   "pygments_lexer": "ipython3",
   "version": "3.7.4"
  }
 },
 "nbformat": 4,
 "nbformat_minor": 2
}
