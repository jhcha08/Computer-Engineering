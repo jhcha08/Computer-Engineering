{
 "cells": [
  {
   "cell_type": "code",
   "execution_count": null,
   "metadata": {},
   "outputs": [],
   "source": [
    "# 1330\n",
    "\n",
    "a, b = input().split()\n",
    "\n",
    "a = int(a)\n",
    "b = int(b)\n",
    "\n",
    "if a > b:\n",
    "    print('>')\n",
    "elif a < b:\n",
    "    print('<')\n",
    "else:\n",
    "    print('==')"
   ]
  },
  {
   "cell_type": "code",
   "execution_count": null,
   "metadata": {},
   "outputs": [],
   "source": [
    "# 9498\n",
    "\n",
    "a = int(input())\n",
    "\n",
    "if 90<= a <= 100:\n",
    "    print('A')\n",
    "elif 80<= a <=89:\n",
    "    print('B')\n",
    "elif 70<= a <= 79:\n",
    "    print('C')\n",
    "elif 60<= a <= 69:\n",
    "    print('D')\n",
    "else:\n",
    "    print('F')"
   ]
  },
  {
   "cell_type": "code",
   "execution_count": null,
   "metadata": {},
   "outputs": [],
   "source": [
    "# 2753\n",
    "\n",
    "a = int(input())\n",
    "\n",
    "if a % 100 != 0 and a % 4 == 0:\n",
    "    print(1)\n",
    "elif a % 400 == 0:\n",
    "    print(1)\n",
    "else:\n",
    "    print(0)"
   ]
  },
  {
   "cell_type": "code",
   "execution_count": null,
   "metadata": {},
   "outputs": [],
   "source": [
    "# 14681\n",
    "\n",
    "x = int(input())\n",
    "y = int(input())\n",
    "\n",
    "if x > 0 and y > 0:\n",
    "    print(1)\n",
    "elif x>0 and y<0:\n",
    "    print(4)\n",
    "elif x<0 and y>0:\n",
    "    print(2)\n",
    "else:\n",
    "    print(3)"
   ]
  },
  {
   "cell_type": "code",
   "execution_count": null,
   "metadata": {},
   "outputs": [],
   "source": [
    "# 2884\n",
    "\n",
    "x, y = input().split()\n",
    "x = int(x)\n",
    "y = int(y)\n",
    "\n",
    "if x != 0:\n",
    "    if y >= 45:\n",
    "        print(x, y-45)\n",
    "    elif y < 45:\n",
    "        print(x-1, y+60-45)\n",
    "else:\n",
    "    if y >= 45:\n",
    "        print(x, y-45)\n",
    "    elif y < 45:\n",
    "        print(23, y+60-45)    "
   ]
  }
 ],
 "metadata": {
  "kernelspec": {
   "display_name": "Python 3",
   "language": "python",
   "name": "python3"
  },
  "language_info": {
   "codemirror_mode": {
    "name": "ipython",
    "version": 3
   },
   "file_extension": ".py",
   "mimetype": "text/x-python",
   "name": "python",
   "nbconvert_exporter": "python",
   "pygments_lexer": "ipython3",
   "version": "3.7.4"
  }
 },
 "nbformat": 4,
 "nbformat_minor": 2
}
