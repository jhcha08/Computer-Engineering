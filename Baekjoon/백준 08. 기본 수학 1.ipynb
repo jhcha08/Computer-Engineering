{
 "cells": [
  {
   "cell_type": "code",
   "execution_count": null,
   "metadata": {},
   "outputs": [],
   "source": [
    "# 1712\n",
    "\n",
    "import math\n",
    "\n",
    "a, b, c = map(int, input().split())\n",
    "\n",
    "if (c-b) == 0:\n",
    "    print(-1)\n",
    "else:\n",
    "    k = a/(c-b)\n",
    "    if k <= 0:\n",
    "        print(-1)\n",
    "    else:\n",
    "        print(math.floor(k)+1)"
   ]
  },
  {
   "cell_type": "code",
   "execution_count": 12,
   "metadata": {},
   "outputs": [
    {
     "name": "stdout",
     "output_type": "stream",
     "text": [
      "13\n",
      "[2, 3, 4, 5, 6, 7, 8, 9, 10, 11, 12, 13, 14, 15, 16, 17, 18, 19, 20, 21, 22, 23, 24, 25]\n",
      "24\n",
      "5.0\n"
     ]
    }
   ],
   "source": [
    "# 샘플\n",
    "import math\n",
    "a = int(input())\n",
    "list_ = []\n",
    "n = 0\n",
    "for i in range(math.ceil((a-2)/6)+1):\n",
    "    for k in range(2+6*n, 2+6*(n+i+1)):\n",
    "        list_.append(k)\n",
    "print(list(set(list_)))\n",
    "print(len(list_))\n",
    "\n",
    "for i in range(4):\n",
    "    t = 6*i+6\n",
    "\n",
    "        \n",
    "        \n",
    "print((t/6)+1)"
   ]
  },
  {
   "cell_type": "code",
   "execution_count": 23,
   "metadata": {},
   "outputs": [
    {
     "name": "stdout",
     "output_type": "stream",
     "text": [
      "13\n",
      "[0, 1]\n",
      "[0, 1]\n",
      "[8, 9, 10, 11, 12, 13, 14, 15, 16, 17, 18, 19]\n",
      "2.0\n"
     ]
    }
   ],
   "source": [
    "a = int(input())\n",
    "list_ = []\n",
    "n = 0\n",
    "i_list= []\n",
    "n_list = []\n",
    "for i in range(math.floor((a-2)/6)+1):\n",
    "    n += i\n",
    "    n_list.append(n)\n",
    "    i_list.append(i)\n",
    "    \n",
    "for k in range(2+6*n_list[-1], 2+6*(n_list[-1]+i_list[-1]+1)):\n",
    "    list_.append(k)\n",
    "    \n",
    "print(n_list)\n",
    "print(i_list)\n",
    "print(list_)\n",
    "print(len(list_)/6)"
   ]
  },
  {
   "cell_type": "code",
   "execution_count": 22,
   "metadata": {},
   "outputs": [
    {
     "data": {
      "text/plain": [
       "18257"
      ]
     },
     "execution_count": 22,
     "metadata": {},
     "output_type": "execute_result"
    }
   ],
   "source": [
    "18257"
   ]
  },
  {
   "cell_type": "code",
   "execution_count": null,
   "metadata": {},
   "outputs": [],
   "source": []
  }
 ],
 "metadata": {
  "kernelspec": {
   "display_name": "Python 3",
   "language": "python",
   "name": "python3"
  },
  "language_info": {
   "codemirror_mode": {
    "name": "ipython",
    "version": 3
   },
   "file_extension": ".py",
   "mimetype": "text/x-python",
   "name": "python",
   "nbconvert_exporter": "python",
   "pygments_lexer": "ipython3",
   "version": "3.7.4"
  }
 },
 "nbformat": 4,
 "nbformat_minor": 2
}
