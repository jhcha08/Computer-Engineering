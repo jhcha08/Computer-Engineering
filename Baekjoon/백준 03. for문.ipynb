{
 "cells": [
  {
   "cell_type": "code",
   "execution_count": null,
   "metadata": {},
   "outputs": [],
   "source": [
    "# 2739\n",
    "\n",
    "a = int(input())\n",
    "\n",
    "for i in range(1,10):\n",
    "    print('%d * %d = %d' % (a, i, a*i))"
   ]
  },
  {
   "cell_type": "code",
   "execution_count": null,
   "metadata": {},
   "outputs": [],
   "source": [
    "# 10950\n",
    "\n",
    "a = int(input())\n",
    "listx = []\n",
    "listy = []\n",
    "\n",
    "for i in range(a):\n",
    "    x, y = input().split()\n",
    "    listx.append(x)\n",
    "    listy.append(y)\n",
    "    \n",
    "for i in range(a):\n",
    "    print(int(listx[i])+int(listy[i]))"
   ]
  },
  {
   "cell_type": "code",
   "execution_count": null,
   "metadata": {},
   "outputs": [],
   "source": [
    "# 8393\n",
    "\n",
    "sum_ = 0\n",
    "n = int(input())\n",
    "for i in range(1,n+1):\n",
    "    sum_ += i\n",
    "print(sum_)"
   ]
  },
  {
   "cell_type": "code",
   "execution_count": null,
   "metadata": {},
   "outputs": [],
   "source": [
    "# 15552\n",
    "\n",
    "import sys\n",
    "k = int(sys.stdin.readline().rstrip())\n",
    "\n",
    "for i in range(k):\n",
    "    A, B = map(int, sys.stdin.readline().split())\n",
    "    print(A+B)"
   ]
  },
  {
   "cell_type": "code",
   "execution_count": null,
   "metadata": {},
   "outputs": [],
   "source": [
    "# 2741\n",
    "\n",
    "a = int(input())\n",
    "\n",
    "for i in range(1,a+1):\n",
    "    print(i)"
   ]
  },
  {
   "cell_type": "code",
   "execution_count": null,
   "metadata": {},
   "outputs": [],
   "source": [
    "# 2742\n",
    "\n",
    "a = int(input())\n",
    "\n",
    "for i in range(1,a+1):\n",
    "    print(a+1-i)"
   ]
  },
  {
   "cell_type": "code",
   "execution_count": null,
   "metadata": {},
   "outputs": [],
   "source": [
    "# 11021\n",
    "\n",
    "a = int(input())\n",
    "listx = []\n",
    "listy = []\n",
    "\n",
    "for i in range(a):\n",
    "    x, y = input().split()\n",
    "    listx.append(x)\n",
    "    listy.append(y)\n",
    "    \n",
    "for i in range(a):\n",
    "    print('Case #%d:' % (i+1),int(listx[i])+int(listy[i]))"
   ]
  },
  {
   "cell_type": "code",
   "execution_count": null,
   "metadata": {},
   "outputs": [],
   "source": [
    "# 11022\n",
    "\n",
    "a = int(input())\n",
    "listx = []\n",
    "listy = []\n",
    "\n",
    "for i in range(a):\n",
    "    x, y = input().split()\n",
    "    listx.append(x)\n",
    "    listy.append(y)\n",
    "    \n",
    "for i in range(a):\n",
    "    print('Case #%d: %d + %d = %d' % ((i+1), int(listx[i]), int(listy[i]), int(listx[i])+int(listy[i])))"
   ]
  },
  {
   "cell_type": "code",
   "execution_count": null,
   "metadata": {},
   "outputs": [],
   "source": [
    "# 2438\n",
    "\n",
    "a = int(input())\n",
    "\n",
    "for i in range(1,a+1):\n",
    "    print('*'*i)"
   ]
  },
  {
   "cell_type": "code",
   "execution_count": null,
   "metadata": {},
   "outputs": [],
   "source": [
    "# 2439\n",
    "\n",
    "a = int(input())\n",
    "\n",
    "for i in range(1,a+1):\n",
    "    print(' '*(a-i)+'*'*i)"
   ]
  },
  {
   "cell_type": "code",
   "execution_count": null,
   "metadata": {},
   "outputs": [],
   "source": [
    "# 10871\n",
    "\n",
    "a, b = map(int, input().split())\n",
    "\n",
    "k = input().split()\n",
    "\n",
    "for i in range(a):\n",
    "    if int(k[i]) < b:\n",
    "        print(k[i], end = ' ')"
   ]
  }
 ],
 "metadata": {
  "kernelspec": {
   "display_name": "Python 3",
   "language": "python",
   "name": "python3"
  },
  "language_info": {
   "codemirror_mode": {
    "name": "ipython",
    "version": 3
   },
   "file_extension": ".py",
   "mimetype": "text/x-python",
   "name": "python",
   "nbconvert_exporter": "python",
   "pygments_lexer": "ipython3",
   "version": "3.7.4"
  }
 },
 "nbformat": 4,
 "nbformat_minor": 2
}
