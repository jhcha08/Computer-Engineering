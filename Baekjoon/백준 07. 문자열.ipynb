{
 "cells": [
  {
   "cell_type": "code",
   "execution_count": null,
   "metadata": {},
   "outputs": [],
   "source": [
    "# 11654\n",
    "\n",
    "print(ord(input()))"
   ]
  },
  {
   "cell_type": "code",
   "execution_count": null,
   "metadata": {},
   "outputs": [],
   "source": [
    "# 11720\n",
    "\n",
    "num = int(input())\n",
    "a = input()\n",
    "\n",
    "list_ = [int(a[i]) for i in range(num)]\n",
    "\n",
    "print(sum(list_))"
   ]
  },
  {
   "cell_type": "code",
   "execution_count": null,
   "metadata": {},
   "outputs": [],
   "source": [
    "# 10809\n",
    "\n",
    "list_ = []\n",
    "list_string = []\n",
    "\n",
    "string = input()\n",
    "\n",
    "for i in range(len(string)):\n",
    "    list_string.append(string[i])\n",
    "\n",
    "if 'a' in list_string:\n",
    "    list_.append(list_string.index('a'))\n",
    "else:\n",
    "    list_.append(-1)\n",
    "if 'b' in list_string:\n",
    "    list_.append(list_string.index('b'))\n",
    "else:\n",
    "    list_.append(-1)\n",
    "if 'c' in list_string:\n",
    "    list_.append(list_string.index('c'))\n",
    "else:\n",
    "    list_.append(-1)\n",
    "if 'd' in list_string:\n",
    "    list_.append(list_string.index('d'))\n",
    "else:\n",
    "    list_.append(-1)\n",
    "if 'e' in list_string:\n",
    "    list_.append(list_string.index('e'))\n",
    "else:\n",
    "    list_.append(-1)\n",
    "if 'f' in list_string:\n",
    "    list_.append(list_string.index('f'))\n",
    "else:\n",
    "    list_.append(-1)\n",
    "if 'g' in list_string:\n",
    "    list_.append(list_string.index('g'))\n",
    "else:\n",
    "    list_.append(-1)\n",
    "if 'h' in list_string:\n",
    "    list_.append(list_string.index('h'))\n",
    "else:\n",
    "    list_.append(-1)\n",
    "if 'i' in list_string:\n",
    "    list_.append(list_string.index('i'))\n",
    "else:\n",
    "    list_.append(-1)\n",
    "if 'j' in list_string:\n",
    "    list_.append(list_string.index('j'))\n",
    "else:\n",
    "    list_.append(-1)\n",
    "if 'k' in list_string:\n",
    "    list_.append(list_string.index('k'))\n",
    "else:\n",
    "    list_.append(-1)\n",
    "if 'l' in list_string:\n",
    "    list_.append(list_string.index('l'))\n",
    "else:\n",
    "    list_.append(-1)\n",
    "if 'm' in list_string:\n",
    "    list_.append(list_string.index('m'))\n",
    "else:\n",
    "    list_.append(-1)\n",
    "if 'n' in list_string:\n",
    "    list_.append(list_string.index('n'))\n",
    "else:\n",
    "    list_.append(-1)\n",
    "if 'o' in list_string:\n",
    "    list_.append(list_string.index('o'))\n",
    "else:\n",
    "    list_.append(-1)\n",
    "if 'p' in list_string:\n",
    "    list_.append(list_string.index('p'))\n",
    "else:\n",
    "    list_.append(-1)\n",
    "if 'q' in list_string:\n",
    "    list_.append(list_string.index('q'))\n",
    "else:\n",
    "    list_.append(-1)\n",
    "if 'r' in list_string:\n",
    "    list_.append(list_string.index('r'))\n",
    "else:\n",
    "    list_.append(-1)\n",
    "if 's' in list_string:\n",
    "    list_.append(list_string.index('s'))\n",
    "else:\n",
    "    list_.append(-1)\n",
    "if 't' in list_string:\n",
    "    list_.append(list_string.index('t'))\n",
    "else:\n",
    "    list_.append(-1)\n",
    "if 'u' in list_string:\n",
    "    list_.append(list_string.index('u'))\n",
    "else:\n",
    "    list_.append(-1)\n",
    "if 'v' in list_string:\n",
    "    list_.append(list_string.index('v'))\n",
    "else:\n",
    "    list_.append(-1)\n",
    "if 'w' in list_string:\n",
    "    list_.append(list_string.index('w'))\n",
    "else:\n",
    "    list_.append(-1)\n",
    "if 'x' in list_string:\n",
    "    list_.append(list_string.index('x'))\n",
    "else:\n",
    "    list_.append(-1)\n",
    "if 'y' in list_string:\n",
    "    list_.append(list_string.index('y'))\n",
    "else:\n",
    "    list_.append(-1)\n",
    "if 'z' in list_string:\n",
    "    list_.append(list_string.index('z'))\n",
    "else:\n",
    "    list_.append(-1)\n",
    "\n",
    "for num in list_:\n",
    "    print('%d' % num, end=' ')"
   ]
  },
  {
   "cell_type": "code",
   "execution_count": null,
   "metadata": {},
   "outputs": [],
   "source": [
    "# 2675\n",
    "\n",
    "num = int(input())\n",
    "word_list = []\n",
    "\n",
    "for i in range(num):\n",
    "    word = ''\n",
    "    list_ = []\n",
    "    a, string = input().split()\n",
    "    \n",
    "    for j in range(len(string)):\n",
    "        list_.append(string[j]*int(a))\n",
    "        word += list_[j]\n",
    "        \n",
    "    word_list.append(word)\n",
    "\n",
    "for w in word_list:\n",
    "    print(w)"
   ]
  },
  {
   "cell_type": "code",
   "execution_count": null,
   "metadata": {},
   "outputs": [],
   "source": [
    "# 1157\n",
    "\n",
    "word = input().upper()\n",
    "dic = {}\n",
    "\n",
    "for w in word:\n",
    "    count = word.count(w)\n",
    "    dic[w] = count\n",
    "    v_list = list(dic.values())\n",
    "    if dic[w] == max(v_list):\n",
    "        max_w = w\n",
    "    if v_list.count(max_) > 1:\n",
    "        max_w = '?'\n",
    "        \n",
    "print(max_w)"
   ]
  },
  {
   "cell_type": "code",
   "execution_count": null,
   "metadata": {},
   "outputs": [],
   "source": [
    "# 1157 (더 효율적)\n",
    "\n",
    "word = input().upper()\n",
    "word_list = [w for w in word]\n",
    "word_list = list(set(word_list))\n",
    "count_list = []\n",
    "\n",
    "for w in word_list:\n",
    "    count = word.count(w)\n",
    "    count_list.append(count)\n",
    "    \n",
    "if count_list.count(max(count_list)) > 1:\n",
    "    print('?')\n",
    "else:\n",
    "    max_index = count_list.index(max(count_list))\n",
    "    print(word_list[max_index])"
   ]
  },
  {
   "cell_type": "code",
   "execution_count": null,
   "metadata": {},
   "outputs": [],
   "source": [
    "# 1152\n",
    "\n",
    "word = input().split()\n",
    "print(len(word))"
   ]
  },
  {
   "cell_type": "code",
   "execution_count": null,
   "metadata": {},
   "outputs": [],
   "source": [
    "# 2908\n",
    "\n",
    "a, b = input().split()\n",
    "\n",
    "a_1 = a[2]\n",
    "a_10 = a[1]\n",
    "a_100 = a[0]\n",
    "\n",
    "a = a_1 + a_10 + a_100\n",
    "\n",
    "b_1 = b[2]\n",
    "b_10 = b[1]\n",
    "b_100 = b[0]\n",
    "\n",
    "b = b_1 + b_10 + b_100\n",
    "\n",
    "if a > b:\n",
    "    print(a)\n",
    "else:\n",
    "    print(b)"
   ]
  },
  {
   "cell_type": "code",
   "execution_count": null,
   "metadata": {},
   "outputs": [],
   "source": [
    "# 5622\n",
    "\n",
    "word = input()\n",
    "t = 0\n",
    "list_ = [i for i in word]\n",
    "\n",
    "for w in list_:\n",
    "    if w == 'A' or w == 'B' or w == 'C':\n",
    "        t += 3\n",
    "    elif w == 'D' or w == 'E' or w == 'F':\n",
    "        t += 4\n",
    "    elif w == 'G' or w == 'H' or w == 'I':\n",
    "        t += 5\n",
    "    elif w == 'J' or w == 'K' or w == 'L':\n",
    "        t += 6\n",
    "    elif w == 'M' or w == 'N' or w == 'O':\n",
    "        t += 7\n",
    "    elif w == 'P' or w == 'Q' or w == 'R' or w == 'S':\n",
    "        t += 8\n",
    "    elif w == 'T' or w == 'U' or w == 'V':\n",
    "        t += 9\n",
    "    elif w == 'W' or w == 'X' or w == 'Y' or w == 'Z':\n",
    "        t += 10\n",
    "        \n",
    "print(t)"
   ]
  },
  {
   "cell_type": "code",
   "execution_count": null,
   "metadata": {},
   "outputs": [],
   "source": [
    "# 2941\n",
    "\n",
    "w = input()\n",
    "\n",
    "if 'c=' in w:\n",
    "    w = w.replace('c=', '!')\n",
    "if 'c-' in w:\n",
    "    w = w.replace('c-', '!')\n",
    "if 'dz=' in w:\n",
    "    w = w.replace('dz=', '!')\n",
    "if 'd-' in w:\n",
    "    w = w.replace('d-', '!')\n",
    "if 'lj' in w:\n",
    "    w = w.replace('lj', '!')\n",
    "if 'nj' in w:\n",
    "    w = w.replace('nj', '!')\n",
    "if 's=' in w:\n",
    "    w = w.replace('s=', '!')\n",
    "if 'z=' in w:\n",
    "    w = w.replace('z=', '!')\n",
    "\n",
    "print(len(w))"
   ]
  },
  {
   "cell_type": "code",
   "execution_count": 23,
   "metadata": {},
   "outputs": [
    {
     "name": "stdout",
     "output_type": "stream",
     "text": [
      "3\n",
      "happy\n",
      "new\n",
      "year\n",
      "3\n"
     ]
    }
   ],
   "source": [
    "n = int(input())\n",
    "count = 0\n",
    "\n",
    "for _ in range(n):\n",
    "    word = input()\n",
    "    for w in range(len(word)):\n",
    "        if w != len(word)-1:\n",
    "            if word[w] == word[w+1]:     # 앞 단어와 뒷 단어가 같다면 연속되는거니까 패스\n",
    "                pass\n",
    "            elif word[w] in word[w+1:]:  # 만약 앞 단어가 이후 단어에도 있다면 중복되는거니까 break\n",
    "                break\n",
    "        else:                            # 여기까지 통과했다면 w는 단어의 길이와 똑같은, 즉 마지막 경우가 되므로 count += 1\n",
    "            count += 1\n",
    "            \n",
    "print(count)"
   ]
  },
  {
   "cell_type": "code",
   "execution_count": 17,
   "metadata": {},
   "outputs": [
    {
     "data": {
      "text/plain": [
       "['d', 'o', 'r', 'w']"
      ]
     },
     "execution_count": 17,
     "metadata": {},
     "output_type": "execute_result"
    }
   ],
   "source": [
    "list_word"
   ]
  },
  {
   "cell_type": "code",
   "execution_count": 12,
   "metadata": {},
   "outputs": [
    {
     "data": {
      "text/plain": [
       "['r', 'd', 'o', 'w']"
      ]
     },
     "execution_count": 12,
     "metadata": {},
     "output_type": "execute_result"
    }
   ],
   "source": [
    "set_list"
   ]
  },
  {
   "cell_type": "code",
   "execution_count": 22,
   "metadata": {},
   "outputs": [
    {
     "name": "stdout",
     "output_type": "stream",
     "text": [
      "['a', 'b', 'c', 'a', 'b', 'c']\n",
      "['b', 'c', 'a']\n"
     ]
    },
    {
     "ename": "TypeError",
     "evalue": "unsupported operand type(s) for -: 'list' and 'list'",
     "output_type": "error",
     "traceback": [
      "\u001b[1;31m---------------------------------------------------------------------------\u001b[0m",
      "\u001b[1;31mTypeError\u001b[0m                                 Traceback (most recent call last)",
      "\u001b[1;32m<ipython-input-22-46cdf8f24191>\u001b[0m in \u001b[0;36m<module>\u001b[1;34m\u001b[0m\n\u001b[0;32m      4\u001b[0m \u001b[0mprint\u001b[0m\u001b[1;33m(\u001b[0m\u001b[0mlist1\u001b[0m\u001b[1;33m)\u001b[0m\u001b[1;33m\u001b[0m\u001b[1;33m\u001b[0m\u001b[0m\n\u001b[0;32m      5\u001b[0m \u001b[0mprint\u001b[0m\u001b[1;33m(\u001b[0m\u001b[0mlist2\u001b[0m\u001b[1;33m)\u001b[0m\u001b[1;33m\u001b[0m\u001b[1;33m\u001b[0m\u001b[0m\n\u001b[1;32m----> 6\u001b[1;33m \u001b[0mprint\u001b[0m\u001b[1;33m(\u001b[0m\u001b[0mlist1\u001b[0m\u001b[1;33m-\u001b[0m\u001b[0mlist2\u001b[0m\u001b[1;33m)\u001b[0m\u001b[1;33m\u001b[0m\u001b[1;33m\u001b[0m\u001b[0m\n\u001b[0m",
      "\u001b[1;31mTypeError\u001b[0m: unsupported operand type(s) for -: 'list' and 'list'"
     ]
    }
   ],
   "source": [
    "list1 = ['a','b','c','a','b','c']\n",
    "list2 = list(set(list1))\n",
    "\n",
    "print(list1)\n",
    "print(list2)\n",
    "print(list1-list2)"
   ]
  },
  {
   "cell_type": "code",
   "execution_count": null,
   "metadata": {},
   "outputs": [],
   "source": []
  }
 ],
 "metadata": {
  "kernelspec": {
   "display_name": "Python 3",
   "language": "python",
   "name": "python3"
  },
  "language_info": {
   "codemirror_mode": {
    "name": "ipython",
    "version": 3
   },
   "file_extension": ".py",
   "mimetype": "text/x-python",
   "name": "python",
   "nbconvert_exporter": "python",
   "pygments_lexer": "ipython3",
   "version": "3.7.4"
  }
 },
 "nbformat": 4,
 "nbformat_minor": 2
}
