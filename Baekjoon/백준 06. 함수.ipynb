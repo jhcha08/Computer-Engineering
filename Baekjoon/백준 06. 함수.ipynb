{
 "cells": [
  {
   "cell_type": "code",
   "execution_count": null,
   "metadata": {},
   "outputs": [],
   "source": [
    "# 15596\n",
    "\n",
    "def solve(list_):\n",
    "    return sum(list_)"
   ]
  },
  {
   "cell_type": "code",
   "execution_count": null,
   "metadata": {},
   "outputs": [],
   "source": [
    "# 4673\n",
    "\n",
    "real_ = [(n+1) for n in range(10000)]\n",
    "\n",
    "def function(N):\n",
    "    list_ = []\n",
    "    for i in range(1,N+1):\n",
    "        if 1 <= i < 10:\n",
    "            k = i + (i%10)\n",
    "            list_.append(k)\n",
    "        elif 10 <= i < 100:\n",
    "            k = i + int(str(i)[0]) + int(str(i)[1])\n",
    "            list_.append(k)\n",
    "        elif 100 <= i < 1000:\n",
    "            k = i + int(str(i)[0]) + int(str(i)[1]) + int(str(i)[2])\n",
    "            list_.append(k)\n",
    "        elif 1000 <= i < 10000:\n",
    "            k = i + int(str(i)[0]) + int(str(i)[1]) + int(str(i)[2]) + int(str(i)[3])\n",
    "            if 1000 <= k < 10000:\n",
    "                list_.append(k)\n",
    "        \n",
    "    return list(set(list_))\n",
    "\n",
    "result = list(set(real_) - set(function(10000)))\n",
    "\n",
    "result.sort()\n",
    "result.remove(10000)\n",
    "\n",
    "for r in result:\n",
    "    print(r)"
   ]
  },
  {
   "cell_type": "code",
   "execution_count": null,
   "metadata": {},
   "outputs": [],
   "source": [
    "# 1065\n",
    "\n",
    "a = int(input())\n",
    "list_ = []\n",
    "\n",
    "def solve(x):\n",
    "    for t in range(1,x+1):\n",
    "        if 1 <= t < 10:\n",
    "            list_.append(t)\n",
    "        elif 10 <= t < 100:\n",
    "            list_.append(t)\n",
    "        else:\n",
    "            i = int(str(t)[0])\n",
    "            j = int(str(t)[1])\n",
    "            k = int(str(t)[2])\n",
    "            if (i-j) == (j-k):\n",
    "                list_.append(t)\n",
    "    return list_\n",
    "\n",
    "print(len(solve(a)))"
   ]
  }
 ],
 "metadata": {
  "kernelspec": {
   "display_name": "Python 3",
   "language": "python",
   "name": "python3"
  },
  "language_info": {
   "codemirror_mode": {
    "name": "ipython",
    "version": 3
   },
   "file_extension": ".py",
   "mimetype": "text/x-python",
   "name": "python",
   "nbconvert_exporter": "python",
   "pygments_lexer": "ipython3",
   "version": "3.7.4"
  }
 },
 "nbformat": 4,
 "nbformat_minor": 2
}
