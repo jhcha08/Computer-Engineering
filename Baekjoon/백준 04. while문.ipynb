{
 "cells": [
  {
   "cell_type": "code",
   "execution_count": null,
   "metadata": {},
   "outputs": [],
   "source": [
    "# 10952\n",
    "\n",
    "list_ = []\n",
    "\n",
    "while True:\n",
    "    a, b = map(int, input().split())\n",
    "    list_.append(a+b)\n",
    "    if (a, b) == (0, 0):\n",
    "        break\n",
    "        \n",
    "for i in range(len(list_)-1):\n",
    "    print(list_[i])"
   ]
  },
  {
   "cell_type": "code",
   "execution_count": null,
   "metadata": {},
   "outputs": [],
   "source": [
    "# 10951\n",
    "\n",
    "list_ = []\n",
    "\n",
    "while True:\n",
    "    try:\n",
    "        a, b = map(int, input().split())\n",
    "        list_.append(a+b)\n",
    "    except:\n",
    "        break\n",
    "\n",
    "for i in range(len(list_)):\n",
    "    print(list_[i])"
   ]
  },
  {
   "cell_type": "code",
   "execution_count": null,
   "metadata": {},
   "outputs": [],
   "source": [
    "# 1110\n",
    "\n",
    "a = input()\n",
    "num = a\n",
    "count = 0\n",
    "\n",
    "if 0 <= int(a) <10:\n",
    "    a = '0' + a\n",
    "\n",
    "while True:\n",
    "    b = int(a[0]) + int(a[1])\n",
    "\n",
    "    if 0 <= int(b) < 10:\n",
    "        b = '0' + str(b)\n",
    "        \n",
    "    a = str(a[1]) + str(b)[1]\n",
    "    \n",
    "    count += 1\n",
    "\n",
    "    if int(a) == int(num):\n",
    "        break\n",
    "        \n",
    "print(count)"
   ]
  }
 ],
 "metadata": {
  "kernelspec": {
   "display_name": "Python 3",
   "language": "python",
   "name": "python3"
  },
  "language_info": {
   "codemirror_mode": {
    "name": "ipython",
    "version": 3
   },
   "file_extension": ".py",
   "mimetype": "text/x-python",
   "name": "python",
   "nbconvert_exporter": "python",
   "pygments_lexer": "ipython3",
   "version": "3.7.4"
  }
 },
 "nbformat": 4,
 "nbformat_minor": 2
}
