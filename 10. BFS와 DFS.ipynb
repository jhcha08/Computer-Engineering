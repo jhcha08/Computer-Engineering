{
 "cells": [
  {
   "cell_type": "markdown",
   "metadata": {},
   "source": [
    "## 1. BFS"
   ]
  },
  {
   "cell_type": "code",
   "execution_count": 1,
   "metadata": {},
   "outputs": [],
   "source": [
    "# 입력될 그래프는 key와 value를 가진 딕셔너리 형태로\n",
    "\n",
    "graph = dict()\n",
    "graph['A'] = ['B','C']\n",
    "graph['B'] = ['A','D']\n",
    "graph['C'] = ['A', 'G', 'H', 'I']\n",
    "graph['D'] = ['B', 'E', 'F']\n",
    "graph['E'] = ['D']\n",
    "graph['F'] = ['D']\n",
    "graph['G'] = ['C']\n",
    "graph['H'] = ['C']\n",
    "graph['I'] = ['C', 'J']\n",
    "graph['J'] = ['I']"
   ]
  },
  {
   "cell_type": "code",
   "execution_count": null,
   "metadata": {},
   "outputs": [],
   "source": [
    "def "
   ]
  },
  {
   "cell_type": "code",
   "execution_count": 2,
   "metadata": {},
   "outputs": [],
   "source": [
    "def BFS(graph, start_node):\n",
    "    visited = list() # 큐의 형태\n",
    "    need_visit = list() # 큐의 형태\n",
    "    \n",
    "    need_visit.append(start_node)\n",
    "    \n",
    "    while need_visit:\n",
    "        node = need_visit.pop(0) # BFS에서 need_visit은 큐의 형태이므로 앞에 것이 먼저 나와야 함\n",
    "        if node not in visited: # need_visit에서 빼온 노드가 방문한 노드가 아니면,\n",
    "            visited.append(node) # visited 노드에 넣기\n",
    "            need_visit.extend(graph[node]) # graph[node]의 value에 해당하는 노드들을 need_visit에 다시 삽입\n",
    "            \n",
    "    return visited"
   ]
  },
  {
   "cell_type": "code",
   "execution_count": 3,
   "metadata": {},
   "outputs": [
    {
     "data": {
      "text/plain": [
       "['A', 'B', 'C', 'D', 'G', 'H', 'I', 'E', 'F', 'J']"
      ]
     },
     "execution_count": 3,
     "metadata": {},
     "output_type": "execute_result"
    }
   ],
   "source": [
    "BFS(graph, 'A')"
   ]
  },
  {
   "cell_type": "code",
   "execution_count": 4,
   "metadata": {},
   "outputs": [
    {
     "name": "stdout",
     "output_type": "stream",
     "text": [
      "x: ['Tick', 'Tock', 'Song', ['Ping', 'Pong']]\n",
      "x: ['Tick', 'Tock', 'Song', 'Ping', 'Pong']\n"
     ]
    }
   ],
   "source": [
    "# 참고: append와 extend의 차이점\n",
    "# 리스트를 뒤에 넣을때, extend는 리스트 내의 원소들을 넣는다. append는 리스트 자체를 넣는다\n",
    "\n",
    "x = ['Tick', 'Tock', 'Song']\n",
    "y = ['Ping', 'Pong']\n",
    "x.append(y)\n",
    "print('x:', x)\n",
    "\n",
    "x = ['Tick', 'Tock', 'Song']\n",
    "y = ['Ping', 'Pong']\n",
    "x.extend(y)\n",
    "print('x:', x)"
   ]
  },
  {
   "cell_type": "markdown",
   "metadata": {},
   "source": [
    "## 2. DFS"
   ]
  },
  {
   "cell_type": "code",
   "execution_count": 5,
   "metadata": {},
   "outputs": [],
   "source": [
    "def DFS(graph, start_node):\n",
    "    visited = list() # 큐의 형태\n",
    "    need_visit = list() # 스택의 형태\n",
    "    \n",
    "    need_visit.append(start_node)\n",
    "    \n",
    "    while need_visit:\n",
    "        node = need_visit.pop() # DFS에서 need_visit은 스택의 형태이므로 뒤에 것이 먼저 나와야 함\n",
    "        if node not in visited:\n",
    "            visited.append(node)\n",
    "            need_visit.extend(graph[node])\n",
    "            \n",
    "    return visited"
   ]
  },
  {
   "cell_type": "code",
   "execution_count": 6,
   "metadata": {},
   "outputs": [
    {
     "data": {
      "text/plain": [
       "['A', 'C', 'I', 'J', 'H', 'G', 'B', 'D', 'F', 'E']"
      ]
     },
     "execution_count": 6,
     "metadata": {},
     "output_type": "execute_result"
    }
   ],
   "source": [
    "DFS(graph, 'A')"
   ]
  }
 ],
 "metadata": {
  "kernelspec": {
   "display_name": "Python 3",
   "language": "python",
   "name": "python3"
  },
  "language_info": {
   "codemirror_mode": {
    "name": "ipython",
    "version": 3
   },
   "file_extension": ".py",
   "mimetype": "text/x-python",
   "name": "python",
   "nbconvert_exporter": "python",
   "pygments_lexer": "ipython3",
   "version": "3.7.4"
  }
 },
 "nbformat": 4,
 "nbformat_minor": 2
}
